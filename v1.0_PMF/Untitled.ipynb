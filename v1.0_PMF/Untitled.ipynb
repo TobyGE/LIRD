{
 "cells": [
  {
   "cell_type": "code",
   "execution_count": 41,
   "metadata": {},
   "outputs": [],
   "source": [
    "import itertools\n",
    "import pandas as pd\n",
    "import numpy as np\n",
    "import random\n",
    "import csv\n",
    "import time\n",
    "\n",
    "import matplotlib.pyplot as plt\n",
    "import os\n",
    "import tensorflow as tf\n",
    "# from data_util import read_file\n",
    "import random"
   ]
  },
  {
   "cell_type": "code",
   "execution_count": 42,
   "metadata": {},
   "outputs": [
    {
     "data": {
      "text/plain": [
       "False"
      ]
     },
     "execution_count": 42,
     "metadata": {},
     "output_type": "execute_result"
    }
   ],
   "source": [
    "tf.test.is_gpu_available()"
   ]
  },
  {
   "cell_type": "code",
   "execution_count": 38,
   "metadata": {},
   "outputs": [],
   "source": [
    "import ast  \n",
    "\n",
    "def read_file(filename):\n",
    "    df = pd.read_csv(filename)\n",
    "    state = [ast.literal_eval(i) for i in df['state'].values.tolist()]\n",
    "    user = df['user'].values.tolist()\n",
    "    history = [ast.literal_eval(i) for i in df['history'].values.tolist()]\n",
    "    \n",
    "    data = pd.DataFrame ()\n",
    "    data['user'] = user\n",
    "    data['state'] = state\n",
    "    data['history'] = history\n",
    "    return data"
   ]
  },
  {
   "cell_type": "code",
   "execution_count": 3,
   "metadata": {},
   "outputs": [],
   "source": [
    "data = read_file('./data/ml-100k/train_data.csv')"
   ]
  },
  {
   "cell_type": "code",
   "execution_count": 43,
   "metadata": {},
   "outputs": [
    {
     "data": {
      "text/plain": [
       "943"
      ]
     },
     "execution_count": 43,
     "metadata": {},
     "output_type": "execute_result"
    }
   ],
   "source": [
    "len(data)"
   ]
  },
  {
   "cell_type": "code",
   "execution_count": 45,
   "metadata": {},
   "outputs": [
    {
     "data": {
      "text/plain": [
       "user                                                     940\n",
       "state                              [257, 299, 293, 357, 407]\n",
       "history    [116, 918, 180, 297, 256, 6, 762, 992, 123, 47...\n",
       "Name: 942, dtype: object"
      ]
     },
     "execution_count": 45,
     "metadata": {},
     "output_type": "execute_result"
    }
   ],
   "source": [
    "data.loc[942]"
   ]
  },
  {
   "cell_type": "code",
   "execution_count": 4,
   "metadata": {},
   "outputs": [],
   "source": [
    "from embeddings import Embeddings\n",
    "item_embeddings = Embeddings(np.load('./data/ml-100k/item_embed.npy'))\n",
    "user_embeddings = Embeddings(np.load('./data/ml-100k/user_embed.npy'))"
   ]
  },
  {
   "cell_type": "code",
   "execution_count": 40,
   "metadata": {},
   "outputs": [],
   "source": [
    "from environment import Environment\n",
    "env = Environment(data, item_embeddings, user_embeddings, 0.9).reset(10)"
   ]
  },
  {
   "cell_type": "code",
   "execution_count": null,
   "metadata": {},
   "outputs": [],
   "source": [
    "random "
   ]
  },
  {
   "cell_type": "code",
   "execution_count": 20,
   "metadata": {},
   "outputs": [
    {
     "data": {
      "text/plain": [
       "5"
      ]
     },
     "execution_count": 20,
     "metadata": {},
     "output_type": "execute_result"
    }
   ],
   "source": [
    "state = env.current_state\n",
    "state.shape[0]"
   ]
  },
  {
   "cell_type": "code",
   "execution_count": 11,
   "metadata": {},
   "outputs": [],
   "source": [
    "embeds = item_embeddings.get_embedding_vector()"
   ]
  },
  {
   "cell_type": "code",
   "execution_count": 32,
   "metadata": {},
   "outputs": [],
   "source": [
    "scores = tf.linalg.matmul(state, tf.transpose(embeds))"
   ]
  },
  {
   "cell_type": "code",
   "execution_count": 33,
   "metadata": {},
   "outputs": [],
   "source": [
    "with tf.Session() as sess:\n",
    "     sess.run(scores) #exe"
   ]
  },
  {
   "cell_type": "code",
   "execution_count": 36,
   "metadata": {},
   "outputs": [
    {
     "data": {
      "text/plain": [
       "array([1, 2, 3, 3, 4, 5])"
      ]
     },
     "execution_count": 36,
     "metadata": {},
     "output_type": "execute_result"
    }
   ],
   "source": [
    "a = np.array([[1,2,3],[3,4,5]])\n",
    "a.reshape(-1)"
   ]
  },
  {
   "cell_type": "code",
   "execution_count": 6,
   "metadata": {},
   "outputs": [],
   "source": [
    "actions = [[0.06300897844172536,\n",
    "  0.10120325060147602,\n",
    "  -0.07067135036012125,\n",
    "  -0.032311522304845186,\n",
    "  0.04158774924751493,\n",
    "  0.04770557068972703,\n",
    "  -0.05524537747502321,\n",
    "  0.09619148967484595],\n",
    "  [-0.32940129849660793,\n",
    "  0.3784379357687106,\n",
    "  0.22846474266313643,\n",
    "  0.3872408961323892,\n",
    "  0.5016216053094931,\n",
    "  -0.35322230732586596,\n",
    "  -0.18604901157054946,\n",
    "  -0.32414148651485614],\n",
    "          [0.18622014881368984,\n",
    "  -0.013660540437454361,\n",
    "  -0.13745905167151162,\n",
    "  0.4602213581009562,\n",
    "  0.5470134701293478,\n",
    "  -0.002449350701645488,\n",
    "  0.2621172847191586,\n",
    "  0.2466560373311872],\n",
    "          [0.21557977549194451,\n",
    "  0.5515019944635859,\n",
    "  -0.15300502349288145,\n",
    "  0.5331932442032238,\n",
    "  0.17151941158607348,\n",
    "  0.32188020803217054,\n",
    "  -0.26827991450515787,\n",
    "  -0.33527392591872157]]"
   ]
  },
  {
   "cell_type": "code",
   "execution_count": 10,
   "metadata": {},
   "outputs": [
    {
     "data": {
      "text/plain": [
       "array([[ 0.20184646,  0.56169861,  0.14647907,  0.34874683,  0.38709448,\n",
       "        -0.11442304,  0.32641887,  0.35552894],\n",
       "       [ 0.25540843,  0.25332423,  0.26294983,  0.57263104,  0.31351944,\n",
       "         0.0922362 ,  0.36785419, -0.07507234],\n",
       "       [-0.38899094,  0.49690356,  0.44087976,  0.85893088, -0.22115704,\n",
       "         0.18239039, -0.14394051,  0.16330508],\n",
       "       [ 0.29668381,  0.08524114,  0.37237725,  0.70457379, -0.4915713 ,\n",
       "        -0.65535941, -0.49692345, -0.21361112],\n",
       "       [ 0.83604909, -0.4705504 , -0.30975711,  0.24216111,  0.63861993,\n",
       "         0.21490916,  0.76525296,  0.48044442],\n",
       "       [ 0.19625726,  0.73610656,  0.20763004,  0.23748853,  0.05018958,\n",
       "         0.221497  , -0.32741095,  0.10578934],\n",
       "       [ 0.01459349,  0.40069033, -0.28270592,  0.23803513,  0.69259573,\n",
       "        -0.36236824, -0.01119533, -0.24605078],\n",
       "       [ 0.2796569 , -0.29005929,  0.17462966,  0.41654598,  0.25547337,\n",
       "        -0.06374545, -0.3603368 , -0.03042745],\n",
       "       [ 0.05105   ,  0.11434958,  0.20763316,  0.29439831,  0.81522863,\n",
       "        -0.11922384,  0.42365459, -0.26798476],\n",
       "       [ 0.27679445,  0.01324099, -0.16084055,  0.14355536,  0.14338786,\n",
       "        -0.40349788,  0.02467205,  0.6022061 ],\n",
       "       [ 0.19612597, -0.80718836,  0.25820625,  0.25824218,  0.29688615,\n",
       "         0.33265546, -0.30993014, -0.33198131],\n",
       "       [ 0.0424064 ,  0.23041964,  0.20749617,  0.58187154,  0.34890156,\n",
       "         0.26180754, -0.03256429, -0.12610728],\n",
       "       [ 0.15270615,  0.07149253,  0.01141557,  0.26487647,  0.1376655 ,\n",
       "         0.08130174,  0.26334695,  0.00705412]])"
      ]
     },
     "execution_count": 10,
     "metadata": {},
     "output_type": "execute_result"
    }
   ],
   "source": [
    "env.current_history"
   ]
  },
  {
   "cell_type": "code",
   "execution_count": 13,
   "metadata": {},
   "outputs": [],
   "source": [
    "test_action = [ 0.20184646]"
   ]
  },
  {
   "cell_type": "code",
   "execution_count": 14,
   "metadata": {},
   "outputs": [
    {
     "data": {
      "text/plain": [
       "False"
      ]
     },
     "execution_count": 14,
     "metadata": {},
     "output_type": "execute_result"
    }
   ],
   "source": [
    "test_action in env.current_history"
   ]
  },
  {
   "cell_type": "code",
   "execution_count": 9,
   "metadata": {},
   "outputs": [
    {
     "data": {
      "text/plain": [
       "[False, False, False, False]"
      ]
     },
     "execution_count": 9,
     "metadata": {},
     "output_type": "execute_result"
    }
   ],
   "source": [
    "[i in env.current_history for i in actions]"
   ]
  },
  {
   "cell_type": "code",
   "execution_count": 5,
   "metadata": {},
   "outputs": [],
   "source": [
    "embedded_data = pd.DataFrame()\n",
    "embedded_data['user'] = [np.array(user_embeddings.get_embedding (row['user'])) for _, row in data.iterrows ()]\n",
    "embedded_data['state'] = [np.array(item_embeddings.embed(row['state'])) for _, row in data.iterrows ()]\n",
    "embedded_data['history'] = [np.array(item_embeddings.embed(row['history'])) for _, row in data.iterrows ()]"
   ]
  },
  {
   "cell_type": "code",
   "execution_count": 10,
   "metadata": {},
   "outputs": [
    {
     "ename": "SyntaxError",
     "evalue": "invalid syntax (<ipython-input-10-fa5cc060853c>, line 1)",
     "output_type": "error",
     "traceback": [
      "\u001b[0;36m  File \u001b[0;32m\"<ipython-input-10-fa5cc060853c>\"\u001b[0;36m, line \u001b[0;32m1\u001b[0m\n\u001b[0;31m    np.array(user_embeddings.get_embedding (row['user'])), np.array(item_embeddings.embed(row['state'])) for _, row in data.iterrows ()\u001b[0m\n\u001b[0m                                                                                                           ^\u001b[0m\n\u001b[0;31mSyntaxError\u001b[0m\u001b[0;31m:\u001b[0m invalid syntax\n"
     ]
    }
   ],
   "source": [
    "np.array(user_embeddings.get_embedding (row['user'])), np.array(item_embeddings.embed(row['state'])) for _, row in data.iterrows ()"
   ]
  },
  {
   "cell_type": "code",
   "execution_count": 2,
   "metadata": {},
   "outputs": [],
   "source": [
    "item_embed = np.load(os.path.dirname(os.getcwd())+'/data/ml-100k/item_embed.npy')"
   ]
  },
  {
   "cell_type": "code",
   "execution_count": 3,
   "metadata": {},
   "outputs": [
    {
     "data": {
      "text/plain": [
       "(1683, 8)"
      ]
     },
     "execution_count": 3,
     "metadata": {},
     "output_type": "execute_result"
    }
   ],
   "source": [
    "item_embed.shape"
   ]
  },
  {
   "cell_type": "code",
   "execution_count": 4,
   "metadata": {},
   "outputs": [],
   "source": [
    "class Embeddings:\n",
    "    def __init__(self, item_embeddings):\n",
    "        self.item_embeddings = item_embeddings\n",
    "\n",
    "    def size(self):\n",
    "        return self.item_embeddings.shape[1]\n",
    "\n",
    "    def get_embedding_vector(self):\n",
    "        return self.item_embeddings\n",
    "\n",
    "    def get_embedding(self, item_index):\n",
    "        return self.item_embeddings[item_index]\n",
    "\n",
    "    def embed(self, item_list):\n",
    "        return np.array ([self.get_embedding (item) for item in item_list])"
   ]
  },
  {
   "cell_type": "code",
   "execution_count": 7,
   "metadata": {},
   "outputs": [],
   "source": [
    "item_embeddings = Embeddings(item_embed)"
   ]
  },
  {
   "cell_type": "code",
   "execution_count": 8,
   "metadata": {},
   "outputs": [
    {
     "data": {
      "text/plain": [
       "array([[-0.3294013 ,  0.37843794,  0.22846474,  0.3872409 ,  0.50162161,\n",
       "        -0.35322231, -0.18604901, -0.32414149],\n",
       "       [ 0.16243079,  0.15634468,  0.01543459,  0.2316866 ,  0.66710608,\n",
       "        -0.18403334,  0.67564983, -0.06392998],\n",
       "       [-0.04695697, -0.1019572 , -0.07385104,  0.61410682, -0.2923867 ,\n",
       "         0.03815775, -0.17699849, -0.27747634]])"
      ]
     },
     "execution_count": 8,
     "metadata": {},
     "output_type": "execute_result"
    }
   ],
   "source": [
    "item_embeddings.embed([1,5,10])"
   ]
  },
  {
   "cell_type": "code",
   "execution_count": 11,
   "metadata": {},
   "outputs": [
    {
     "data": {
      "text/plain": [
       "array([ 0.10120325, -0.07067135, -0.03231152,  0.04158775,  0.04770557,\n",
       "       -0.05524538,  0.09619149])"
      ]
     },
     "execution_count": 11,
     "metadata": {},
     "output_type": "execute_result"
    }
   ],
   "source": [
    "item_embed[0][1:]"
   ]
  },
  {
   "cell_type": "code",
   "execution_count": 12,
   "metadata": {},
   "outputs": [
    {
     "data": {
      "text/plain": [
       "[0.06300897844172536, array([-0.05524538,  0.09619149])]"
      ]
     },
     "execution_count": 12,
     "metadata": {},
     "output_type": "execute_result"
    }
   ],
   "source": [
    "u = [item_embed[0][0],item_embed[0][6:]]\n",
    "u"
   ]
  },
  {
   "cell_type": "code",
   "execution_count": 3,
   "metadata": {},
   "outputs": [
    {
     "ename": "ModuleNotFoundError",
     "evalue": "No module named 'data_util'",
     "output_type": "error",
     "traceback": [
      "\u001b[0;31m---------------------------------------------------------------------------\u001b[0m",
      "\u001b[0;31mModuleNotFoundError\u001b[0m                       Traceback (most recent call last)",
      "\u001b[0;32m<ipython-input-3-d2ebf333772d>\u001b[0m in \u001b[0;36m<module>\u001b[0;34m\u001b[0m\n\u001b[0;32m----> 1\u001b[0;31m \u001b[0;32mfrom\u001b[0m \u001b[0mdata_util\u001b[0m \u001b[0;32mimport\u001b[0m \u001b[0mread_file\u001b[0m\u001b[0;34m\u001b[0m\u001b[0m\n\u001b[0m\u001b[1;32m      2\u001b[0m \u001b[0;34m\u001b[0m\u001b[0m\n\u001b[1;32m      3\u001b[0m \u001b[0mdata\u001b[0m \u001b[0;34m=\u001b[0m \u001b[0mread_file\u001b[0m\u001b[0;34m(\u001b[0m\u001b[0;34m'/data/ml-100k/train.csv'\u001b[0m\u001b[0;34m)\u001b[0m\u001b[0;34m\u001b[0m\u001b[0m\n",
      "\u001b[0;31mModuleNotFoundError\u001b[0m: No module named 'data_util'"
     ]
    }
   ],
   "source": []
  },
  {
   "cell_type": "code",
   "execution_count": null,
   "metadata": {},
   "outputs": [],
   "source": []
  }
 ],
 "metadata": {
  "kernelspec": {
   "display_name": "tf",
   "language": "python",
   "name": "tf"
  },
  "language_info": {
   "codemirror_mode": {
    "name": "ipython",
    "version": 3
   },
   "file_extension": ".py",
   "mimetype": "text/x-python",
   "name": "python",
   "nbconvert_exporter": "python",
   "pygments_lexer": "ipython3",
   "version": "3.6.8"
  }
 },
 "nbformat": 4,
 "nbformat_minor": 4
}
