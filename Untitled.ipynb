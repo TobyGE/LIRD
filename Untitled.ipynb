{
 "cells": [
  {
   "cell_type": "code",
   "execution_count": 2,
   "metadata": {},
   "outputs": [],
   "source": [
    "from data_generator import DataGenerator\n",
    "# from embeddings_generator import *\n",
    "\n",
    "\n",
    "# Hyperparameters\n",
    "\n",
    "# if __name__ == '__main__':\n",
    "\n",
    "history_length = 12 # N in article\n",
    "ra_length = 4 # K in article\n",
    "discount_factor = 0.99 # Gamma in Bellman equation\n",
    "actor_lr = 0.0001\n",
    "critic_lr = 0.001\n",
    "tau = 0.001 # τ in Algorithm 3\n",
    "batch_size = 64\n",
    "nb_episodes = 100\n",
    "nb_rounds = 50\n",
    "filename_summary = 'summary.txt'\n",
    "alpha = 0.5 # α (alpha) in Equation (1)\n",
    "gamma = 0.9 # Γ (Gamma) in Equation (4)\n",
    "buffer_size = 1000000 # Size of replay memory D in article\n",
    "fixed_length = True # Fixed memory length\n",
    "\n",
    "dg = DataGenerator('ml-100k/u.data', 'ml-100k/u.item')\n",
    "dg.gen_train_test(0.8, seed=42)\n",
    "\n",
    "dg.write_csv('train.csv', dg.train, nb_states=[history_length], nb_actions=[ra_length])\n",
    "dg.write_csv('test.csv', dg.test, nb_states=[history_length], nb_actions=[ra_length])\n"
   ]
  },
  {
   "cell_type": "code",
   "execution_count": 5,
   "metadata": {},
   "outputs": [
    {
     "data": {
      "text/html": [
       "<div>\n",
       "<style scoped>\n",
       "    .dataframe tbody tr th:only-of-type {\n",
       "        vertical-align: middle;\n",
       "    }\n",
       "\n",
       "    .dataframe tbody tr th {\n",
       "        vertical-align: top;\n",
       "    }\n",
       "\n",
       "    .dataframe thead th {\n",
       "        text-align: right;\n",
       "    }\n",
       "</style>\n",
       "<table border=\"1\" class=\"dataframe\">\n",
       "  <thead>\n",
       "    <tr style=\"text-align: right;\">\n",
       "      <th></th>\n",
       "      <th>userId</th>\n",
       "      <th>itemId</th>\n",
       "      <th>rating</th>\n",
       "      <th>timestamp</th>\n",
       "      <th>itemName</th>\n",
       "    </tr>\n",
       "  </thead>\n",
       "  <tbody>\n",
       "    <tr>\n",
       "      <th>0</th>\n",
       "      <td>389</td>\n",
       "      <td>286</td>\n",
       "      <td>2</td>\n",
       "      <td>879915633</td>\n",
       "      <td>English Patient, The (1996)</td>\n",
       "    </tr>\n",
       "    <tr>\n",
       "      <th>1</th>\n",
       "      <td>389</td>\n",
       "      <td>302</td>\n",
       "      <td>5</td>\n",
       "      <td>879915633</td>\n",
       "      <td>L.A. Confidential (1997)</td>\n",
       "    </tr>\n",
       "    <tr>\n",
       "      <th>2</th>\n",
       "      <td>389</td>\n",
       "      <td>127</td>\n",
       "      <td>5</td>\n",
       "      <td>879915701</td>\n",
       "      <td>Godfather, The (1972)</td>\n",
       "    </tr>\n",
       "    <tr>\n",
       "      <th>3</th>\n",
       "      <td>389</td>\n",
       "      <td>100</td>\n",
       "      <td>5</td>\n",
       "      <td>879915701</td>\n",
       "      <td>Fargo (1996)</td>\n",
       "    </tr>\n",
       "    <tr>\n",
       "      <th>4</th>\n",
       "      <td>389</td>\n",
       "      <td>591</td>\n",
       "      <td>3</td>\n",
       "      <td>879915726</td>\n",
       "      <td>Primal Fear (1996)</td>\n",
       "    </tr>\n",
       "    <tr>\n",
       "      <th>...</th>\n",
       "      <td>...</td>\n",
       "      <td>...</td>\n",
       "      <td>...</td>\n",
       "      <td>...</td>\n",
       "      <td>...</td>\n",
       "    </tr>\n",
       "    <tr>\n",
       "      <th>266</th>\n",
       "      <td>389</td>\n",
       "      <td>824</td>\n",
       "      <td>3</td>\n",
       "      <td>881384649</td>\n",
       "      <td>Great White Hype, The (1996)</td>\n",
       "    </tr>\n",
       "    <tr>\n",
       "      <th>267</th>\n",
       "      <td>389</td>\n",
       "      <td>1052</td>\n",
       "      <td>2</td>\n",
       "      <td>881384711</td>\n",
       "      <td>Dracula: Dead and Loving It (1995)</td>\n",
       "    </tr>\n",
       "    <tr>\n",
       "      <th>268</th>\n",
       "      <td>389</td>\n",
       "      <td>346</td>\n",
       "      <td>4</td>\n",
       "      <td>885681315</td>\n",
       "      <td>Jackie Brown (1997)</td>\n",
       "    </tr>\n",
       "    <tr>\n",
       "      <th>269</th>\n",
       "      <td>389</td>\n",
       "      <td>1298</td>\n",
       "      <td>5</td>\n",
       "      <td>887868071</td>\n",
       "      <td>Band Wagon, The (1953)</td>\n",
       "    </tr>\n",
       "    <tr>\n",
       "      <th>270</th>\n",
       "      <td>389</td>\n",
       "      <td>347</td>\n",
       "      <td>4</td>\n",
       "      <td>887868071</td>\n",
       "      <td>Wag the Dog (1997)</td>\n",
       "    </tr>\n",
       "  </tbody>\n",
       "</table>\n",
       "<p>271 rows × 5 columns</p>\n",
       "</div>"
      ],
      "text/plain": [
       "     userId  itemId  rating  timestamp                            itemName\n",
       "0       389     286       2  879915633         English Patient, The (1996)\n",
       "1       389     302       5  879915633            L.A. Confidential (1997)\n",
       "2       389     127       5  879915701               Godfather, The (1972)\n",
       "3       389     100       5  879915701                        Fargo (1996)\n",
       "4       389     591       3  879915726                  Primal Fear (1996)\n",
       "..      ...     ...     ...        ...                                 ...\n",
       "266     389     824       3  881384649        Great White Hype, The (1996)\n",
       "267     389    1052       2  881384711  Dracula: Dead and Loving It (1995)\n",
       "268     389     346       4  885681315                 Jackie Brown (1997)\n",
       "269     389    1298       5  887868071              Band Wagon, The (1953)\n",
       "270     389     347       4  887868071                  Wag the Dog (1997)\n",
       "\n",
       "[271 rows x 5 columns]"
      ]
     },
     "execution_count": 5,
     "metadata": {},
     "output_type": "execute_result"
    }
   ],
   "source": [
    "# len(dg.histo)\n",
    "# type(dg.histo)\n",
    "dg.histo[0]"
   ]
  },
  {
   "cell_type": "code",
   "execution_count": 55,
   "metadata": {},
   "outputs": [],
   "source": [
    "import random\n",
    "def sample_histo(user_histo, action_ratio=0.8, max_samp_by_user=5,  max_state=100, max_action=50, nb_states=[], nb_actions=[]):\n",
    "    '''\n",
    "    For a given historic, make one or multiple sampling.\n",
    "    If no optional argument given for nb_states and nb_actions, then the sampling\n",
    "    is random and each sample can have differents size for action and state.\n",
    "    To normalize sampling we need to give list of the numbers of states and actions\n",
    "    to be sampled.\n",
    "\n",
    "    Parameters\n",
    "    ----------\n",
    "    user_histo :  DataFrame\n",
    "                      historic of user\n",
    "    delimiter :       string, optional\n",
    "                      delimiter for the csv\n",
    "    action_ratio :    float, optional\n",
    "                      ratio form which movies in history will be selected\n",
    "    max_samp_by_user: int, optional\n",
    "                      Number max of sample to make by user\n",
    "    max_state :       int, optional\n",
    "                      Number max of movies to take for the 'state' column\n",
    "    max_action :      int, optional\n",
    "                      Number max of movies to take for the 'action' action\n",
    "    nb_states :       array(int), optional\n",
    "                      Numbers of movies to be taken for each sample made on user's historic\n",
    "    nb_actions :      array(int), optional\n",
    "                      Numbers of rating to be taken for each sample made on user's historic\n",
    "\n",
    "    Returns\n",
    "    -------\n",
    "    states :         List(String)\n",
    "                     All the states sampled, format of a sample: itemId&rating\n",
    "    actions :        List(String)\n",
    "                     All the actions sampled, format of a sample: itemId&rating\n",
    "\n",
    "\n",
    "    Notes\n",
    "    -----\n",
    "    States must be before(timestamp<) the actions.\n",
    "    If given, size of nb_states is the numbller of sample by user\n",
    "    sizes of nb_states and nb_actions must be equals\n",
    "    '''\n",
    "\n",
    "    n = len(user_histo)\n",
    "    sep = int (action_ratio * n)\n",
    "    nb_sample = random.randint (1, max_samp_by_user)\n",
    "    if not nb_states:\n",
    "        nb_states = [min (random.randint (1, sep), max_state) for i in range (nb_sample)]\n",
    "    if not nb_actions:\n",
    "        nb_actions = [min (random.randint (1, n - sep), max_action) for i in range (nb_sample)]\n",
    "    assert len (nb_states) == len (nb_actions), 'Given array must have the same size'\n",
    "\n",
    "    states = []\n",
    "    actions = []\n",
    "    # SELECT SAMPLES IN HISTO\n",
    "    for i in range (len (nb_states)):\n",
    "        user_states = user_histo[user_histo['rating']>=4].iloc[0:sep]\n",
    "        if len(user_states) >= nb_states[i]:\n",
    "            sample_states = user_states.sample (nb_states[i])\n",
    "        else:\n",
    "            continue\n",
    "\n",
    "        sample_actions = user_histo.iloc[-(n - sep):].sample (nb_actions[i])\n",
    "\n",
    "        sample_state = []\n",
    "        sample_action = []\n",
    "\n",
    "        for j in range (nb_states[i]):\n",
    "            row = sample_states.iloc[j]\n",
    "            # FORMAT STATE\n",
    "            state = str (row.loc['itemId']) + '&' + str (1)\n",
    "            sample_state.append (state)\n",
    "\n",
    "        for k in range (nb_actions[i]):\n",
    "            row = sample_actions.iloc[k]\n",
    "            # FORMAT ACTION\n",
    "            if row.loc['rating'] >= 4:\n",
    "                action = str (row.loc['itemId']) + '&' + str (1)\n",
    "            else:\n",
    "                action = str (row.loc['itemId']) + '&' + str (0)\n",
    "            sample_action.append (action)\n",
    "\n",
    "        states.append (sample_state)\n",
    "        actions.append (sample_action)\n",
    "        return states, actions"
   ]
  },
  {
   "cell_type": "code",
   "execution_count": null,
   "metadata": {},
   "outputs": [],
   "source": []
  },
  {
   "cell_type": "code",
   "execution_count": 45,
   "metadata": {},
   "outputs": [],
   "source": [
    "user_histo = dg.train[0]\n",
    "action_ratio=0.8\n",
    "max_samp_by_user=5\n",
    "max_state=100\n",
    "max_action=50\n",
    "nb_states=[12]\n",
    "nb_actions=[4]"
   ]
  },
  {
   "cell_type": "code",
   "execution_count": 46,
   "metadata": {},
   "outputs": [
    {
     "data": {
      "text/plain": [
       "(271, 216, 3)"
      ]
     },
     "execution_count": 46,
     "metadata": {},
     "output_type": "execute_result"
    }
   ],
   "source": [
    "n = len (user_histo)\n",
    "sep = int (action_ratio * n)\n",
    "nb_sample = random.randint (1, max_samp_by_user)\n",
    "n,sep,nb_sample"
   ]
  },
  {
   "cell_type": "code",
   "execution_count": 47,
   "metadata": {},
   "outputs": [],
   "source": [
    "if not nb_states:\n",
    "    nb_states = [min (random.randint (1, sep), max_state) for i in range (nb_sample)]\n",
    "if not nb_actions:\n",
    "    nb_actions = [min (random.randint (1, n - sep), max_action) for i in range (nb_sample)]\n",
    "assert len (nb_states) == len (nb_actions), 'Given array must have the same size'"
   ]
  },
  {
   "cell_type": "code",
   "execution_count": 49,
   "metadata": {},
   "outputs": [],
   "source": [
    "states = []\n",
    "actions = []\n",
    "# SELECT SAMPLES IN HISTO\n",
    "for i in range (len (nb_states)):\n",
    "    user_states = user_histo[user_histo['rating']>=4].iloc[0:sep]\n",
    "    if len(user_states) >= nb_states[i]:\n",
    "        sample_states = user_states.sample (nb_states[i])\n",
    "        sample_actions = user_histo.iloc[-(n - sep):].sample (nb_actions[i])\n",
    "\n",
    "        sample_state = []\n",
    "        sample_action = []\n",
    "\n",
    "        for j in range (nb_states[i]):\n",
    "            row = sample_states.iloc[j]\n",
    "            # FORMAT STATE\n",
    "            state = str (row.loc['itemId']) + '&' + str (1)\n",
    "            sample_state.append (state)\n",
    "\n",
    "        for k in range (nb_actions[i]):\n",
    "            row = sample_actions.iloc[k]\n",
    "            # FORMAT ACTION\n",
    "            if row.loc['rating'] >= 4:\n",
    "                action = str (row.loc['itemId']) + '&' + str (1)\n",
    "            else:\n",
    "                action = str (row.loc['itemId']) + '&' + str (0)\n",
    "            sample_action.append (action)\n",
    "    else:\n",
    "        continue\n",
    "\n",
    "    states.append (sample_state)\n",
    "    actions.append (sample_action)"
   ]
  },
  {
   "cell_type": "code",
   "execution_count": 50,
   "metadata": {},
   "outputs": [
    {
     "data": {
      "text/plain": [
       "([['50&1',\n",
       "   '414&1',\n",
       "   '134&1',\n",
       "   '612&1',\n",
       "   '302&1',\n",
       "   '616&1',\n",
       "   '172&1',\n",
       "   '178&1',\n",
       "   '487&1',\n",
       "   '197&1',\n",
       "   '404&1',\n",
       "   '1147&1']],\n",
       " [['824&0', '1052&0', '722&0', '199&1']])"
      ]
     },
     "execution_count": 50,
     "metadata": {},
     "output_type": "execute_result"
    }
   ],
   "source": [
    "states,actions"
   ]
  },
  {
   "cell_type": "code",
   "execution_count": null,
   "metadata": {},
   "outputs": [],
   "source": [
    "[len(states[i]) for i in range (len (nb_states))]"
   ]
  },
  {
   "cell_type": "code",
   "execution_count": null,
   "metadata": {},
   "outputs": [],
   "source": [
    "sample_states = user_histo.iloc[0:sep].sample (nb_states[0])\n",
    "sample_states.iloc[1]['rating']\n",
    "# sample_actions = user_histo.iloc[-(n - sep):].sample (nb_actions[i])"
   ]
  },
  {
   "cell_type": "code",
   "execution_count": null,
   "metadata": {},
   "outputs": [],
   "source": [
    "nb_states, nb_actions"
   ]
  },
  {
   "cell_type": "code",
   "execution_count": null,
   "metadata": {},
   "outputs": [],
   "source": [
    "for i in range (len (states)):\n",
    "    # FORMAT STATE\n",
    "    state_str = '|'.join (states[i])\n",
    "    print(state_str)\n",
    "    # FORMAT ACTION\n",
    "    action_str = '|'.join (actions[i])\n",
    "    print(action_str)\n",
    "    # FORMAT N_STATE\n",
    "    n_state_str = state_str + '|' + action_str\n",
    "    print(n_state_str)\n",
    "    input()"
   ]
  },
  {
   "cell_type": "code",
   "execution_count": 56,
   "metadata": {},
   "outputs": [
    {
     "name": "stdout",
     "output_type": "stream",
     "text": [
      "[['411&1', '82&1', '477&1', '482&1', '517&1', '347&1', '474&1', '484&1', '8&1', '518&1', '631&1', '501&1', '151&1', '778&1', '491&1', '471&1', '525&1', '835&1', '98&1', '732&1', '418&1', '558&1', '414&1', '483&1', '519&1', '792&1', '709&1', '487&1', '191&1', '1286&1', '486&1', '504&1', '480&1', '836&1', '160&1', '496&1', '1050&1', '514&1', '693&1', '845&1', '605&1', '99&1', '132&1', '208&1', '187&1', '493&1', '664&1', '134&1', '923&1', '346&1', '181&1', '671&1', '498&1', '699&1', '174&1', '604&1', '663&1', '127&1', '205&1', '199&1', '603&1', '404&1', '211&1', '509&1', '475&1', '955&1', '1&1', '507&1', '736&1', '612&1', '185&1', '283&1', '616&1', '485&1', '100&1', '488&1', '178&1', '285&1', '588&1', '371&1', '275&1', '615&1', '209&1', '847&1', '661&1', '42&1', '502&1', '50&1', '1147&1', '58&1', '610&1', '4&1', '1298&1', '429&1', '497&1', '378&1', '65&1', '182&1', '124&1', '301&1']]\n"
     ]
    },
    {
     "name": "stdin",
     "output_type": "stream",
     "text": [
      " \n"
     ]
    },
    {
     "name": "stdout",
     "output_type": "stream",
     "text": [
      "[['515&1', '328&1', '1379&1', '558&1', '863&1', '32&1', '471&1', '1080&1', '237&1', '960&1', '221&1', '847&1', '707&1', '277&1', '93&1', '236&1', '936&1', '529&1', '275&1', '137&1', '313&1', '1251&1', '179&1', '248&1', '923&1', '534&1', '702&1', '1255&1', '244&1', '754&1', '1560&1', '536&1', '116&1', '83&1', '165&1', '86&1', '213&1', '302&1', '347&1', '1142&1', '639&1', '1131&1', '698&1', '20&1', '245&1', '305&1', '306&1', '26&1', '919&1', '279&1', '937&1', '750&1', '753&1', '331&1', '874&1', '1005&1', '61&1', '1194&1', '922&1', '258&1', '1501&1', '340&1', '7&1', '276&1', '319&1', '166&1', '1150&1', '272&1', '582&1', '212&1', '170&1', '13&1', '479&1', '52&1', '462&1', '333&1', '1009&1', '124&1', '690&1', '463&1', '879&1', '223&1', '904&1', '339&1', '10&1', '190&1', '285&1', '903&1', '1592&1', '736&1', '303&1', '30&1', '1073&1', '12&1', '286&1', '535&1', '345&1', '129&1', '292&1', '509&1']]\n"
     ]
    },
    {
     "name": "stdin",
     "output_type": "stream",
     "text": [
      " \n"
     ]
    },
    {
     "name": "stdout",
     "output_type": "stream",
     "text": [
      "[['328&1', '347&1', '316&1', '355&1', '272&1', '327&1', '748&1', '989&1', '333&1']]\n"
     ]
    },
    {
     "name": "stdin",
     "output_type": "stream",
     "text": [
      " \n"
     ]
    },
    {
     "name": "stdout",
     "output_type": "stream",
     "text": [
      "[['1101&1', '467&1', '7&1', '117&1', '475&1', '257&1', '515&1', '408&1', '518&1', '488&1', '433&1', '527&1', '69&1', '178&1', '100&1', '471&1', '86&1', '45&1']]\n"
     ]
    },
    {
     "name": "stdin",
     "output_type": "stream",
     "text": [
      " \n"
     ]
    },
    {
     "name": "stdout",
     "output_type": "stream",
     "text": [
      "[['496&1', '402&1', '137&1', '70&1', '189&1', '921&1', '51&1', '588&1', '143&1', '652&1', '312&1', '549&1', '255&1', '83&1', '89&1']]\n"
     ]
    },
    {
     "name": "stdin",
     "output_type": "stream",
     "text": [
      " \n"
     ]
    },
    {
     "name": "stdout",
     "output_type": "stream",
     "text": [
      "[['288&1', '332&1', '245&1', '304&1', '269&1', '300&1', '937&1', '243&1', '286&1', '882&1', '690&1']]\n"
     ]
    },
    {
     "name": "stdin",
     "output_type": "stream",
     "text": [
      " \n"
     ]
    },
    {
     "name": "stdout",
     "output_type": "stream",
     "text": [
      "[['3&1', '275&1', '237&1', '98&1', '475&1', '726&1', '276&1', '169&1', '42&1', '595&1', '273&1', '283&1', '121&1', '928&1', '1&1', '210&1', '410&1', '318&1', '186&1', '7&1', '147&1']]\n"
     ]
    },
    {
     "name": "stdin",
     "output_type": "stream",
     "text": [
      " \n"
     ]
    },
    {
     "name": "stdout",
     "output_type": "stream",
     "text": [
      "[['212&1', '420&1', '144&1', '239&1', '88&1', '4&1', '67&1', '961&1', '181&1', '661&1', '302&1', '462&1', '405&1', '514&1', '605&1', '152&1', '303&1', '170&1', '2&1', '663&1', '223&1', '174&1', '161&1', '507&1', '197&1', '172&1', '70&1', '550&1', '732&1', '506&1', '794&1', '229&1', '705&1', '624&1', '210&1', '428&1', '89&1', '432&1', '419&1', '100&1', '50&1', '414&1', '94&1', '502&1', '191&1', '811&1', '204&1', '427&1', '492&1', '965&1', '254&1', '488&1', '403&1', '675&1', '630&1', '554&1', '199&1', '316&1', '1018&1', '435&1', '384&1', '963&1', '257&1', '755&1', '153&1', '96&1', '584&1', '660&1', '474&1', '1449&1', '1203&1', '56&1', '855&1', '193&1', '83&1', '286&1', '297&1', '65&1', '69&1', '66&1', '196&1', '163&1', '650&1', '82&1', '617&1', '501&1', '211&1', '13&1', '902&1', '135&1', '213&1', '190&1', '712&1', '481&1', '664&1']]\n"
     ]
    },
    {
     "ename": "KeyboardInterrupt",
     "evalue": "Interrupted by user",
     "output_type": "error",
     "traceback": [
      "\u001b[0;31m---------------------------------------------------------------------------\u001b[0m",
      "\u001b[0;31mKeyboardInterrupt\u001b[0m                         Traceback (most recent call last)",
      "\u001b[0;32m<ipython-input-56-aef56fba70ed>\u001b[0m in \u001b[0;36m<module>\u001b[0;34m\u001b[0m\n\u001b[1;32m      2\u001b[0m     \u001b[0mstates\u001b[0m\u001b[0;34m,\u001b[0m \u001b[0mactions\u001b[0m \u001b[0;34m=\u001b[0m \u001b[0msample_histo\u001b[0m\u001b[0;34m(\u001b[0m\u001b[0muser_histo\u001b[0m\u001b[0;34m)\u001b[0m\u001b[0;34m\u001b[0m\u001b[0;34m\u001b[0m\u001b[0m\n\u001b[1;32m      3\u001b[0m     \u001b[0mprint\u001b[0m\u001b[0;34m(\u001b[0m\u001b[0mstates\u001b[0m\u001b[0;34m)\u001b[0m\u001b[0;34m\u001b[0m\u001b[0;34m\u001b[0m\u001b[0m\n\u001b[0;32m----> 4\u001b[0;31m     \u001b[0minput\u001b[0m\u001b[0;34m(\u001b[0m\u001b[0;34m)\u001b[0m\u001b[0;34m\u001b[0m\u001b[0;34m\u001b[0m\u001b[0m\n\u001b[0m\u001b[1;32m      5\u001b[0m \u001b[0;31m#     for i in range (len (states)):\u001b[0m\u001b[0;34m\u001b[0m\u001b[0;34m\u001b[0m\u001b[0;34m\u001b[0m\u001b[0m\n\u001b[1;32m      6\u001b[0m \u001b[0;31m#         # FORMAT STATE\u001b[0m\u001b[0;34m\u001b[0m\u001b[0;34m\u001b[0m\u001b[0;34m\u001b[0m\u001b[0m\n",
      "\u001b[0;32m~/anaconda3/envs/tf/lib/python3.6/site-packages/ipykernel/kernelbase.py\u001b[0m in \u001b[0;36mraw_input\u001b[0;34m(self, prompt)\u001b[0m\n\u001b[1;32m    861\u001b[0m             \u001b[0mself\u001b[0m\u001b[0;34m.\u001b[0m\u001b[0m_parent_ident\u001b[0m\u001b[0;34m,\u001b[0m\u001b[0;34m\u001b[0m\u001b[0;34m\u001b[0m\u001b[0m\n\u001b[1;32m    862\u001b[0m             \u001b[0mself\u001b[0m\u001b[0;34m.\u001b[0m\u001b[0m_parent_header\u001b[0m\u001b[0;34m,\u001b[0m\u001b[0;34m\u001b[0m\u001b[0;34m\u001b[0m\u001b[0m\n\u001b[0;32m--> 863\u001b[0;31m             \u001b[0mpassword\u001b[0m\u001b[0;34m=\u001b[0m\u001b[0;32mFalse\u001b[0m\u001b[0;34m,\u001b[0m\u001b[0;34m\u001b[0m\u001b[0;34m\u001b[0m\u001b[0m\n\u001b[0m\u001b[1;32m    864\u001b[0m         )\n\u001b[1;32m    865\u001b[0m \u001b[0;34m\u001b[0m\u001b[0m\n",
      "\u001b[0;32m~/anaconda3/envs/tf/lib/python3.6/site-packages/ipykernel/kernelbase.py\u001b[0m in \u001b[0;36m_input_request\u001b[0;34m(self, prompt, ident, parent, password)\u001b[0m\n\u001b[1;32m    891\u001b[0m             \u001b[0;32mexcept\u001b[0m \u001b[0mKeyboardInterrupt\u001b[0m\u001b[0;34m:\u001b[0m\u001b[0;34m\u001b[0m\u001b[0;34m\u001b[0m\u001b[0m\n\u001b[1;32m    892\u001b[0m                 \u001b[0;31m# re-raise KeyboardInterrupt, to truncate traceback\u001b[0m\u001b[0;34m\u001b[0m\u001b[0;34m\u001b[0m\u001b[0;34m\u001b[0m\u001b[0m\n\u001b[0;32m--> 893\u001b[0;31m                 \u001b[0;32mraise\u001b[0m \u001b[0mKeyboardInterrupt\u001b[0m\u001b[0;34m(\u001b[0m\u001b[0;34m\"Interrupted by user\"\u001b[0m\u001b[0;34m)\u001b[0m \u001b[0;32mfrom\u001b[0m \u001b[0;32mNone\u001b[0m\u001b[0;34m\u001b[0m\u001b[0;34m\u001b[0m\u001b[0m\n\u001b[0m\u001b[1;32m    894\u001b[0m             \u001b[0;32melse\u001b[0m\u001b[0;34m:\u001b[0m\u001b[0;34m\u001b[0m\u001b[0;34m\u001b[0m\u001b[0m\n\u001b[1;32m    895\u001b[0m                 \u001b[0;32mbreak\u001b[0m\u001b[0;34m\u001b[0m\u001b[0;34m\u001b[0m\u001b[0m\n",
      "\u001b[0;31mKeyboardInterrupt\u001b[0m: Interrupted by user"
     ]
    }
   ],
   "source": [
    "for user_histo in dg.train:\n",
    "    states, actions = sample_histo(user_histo)\n",
    "    print(states)\n",
    "    input()\n",
    "#     for i in range (len (states)):\n",
    "#         # FORMAT STATE\n",
    "#         state_str = '|'.join (states[i])\n",
    "#         # FORMAT ACTION\n",
    "#         action_str = '|'.join (actions[i])\n",
    "#         # FORMAT N_STATE\n",
    "#         n_state_str = state_str + '|' + action_str"
   ]
  },
  {
   "cell_type": "code",
   "execution_count": 8,
   "metadata": {},
   "outputs": [],
   "source": [
    "import pandas as pd\n",
    "import numpy as np\n",
    "def read_file(data_path):\n",
    "    ''' Load data from train.csv or test.csv. '''\n",
    "\n",
    "    data = pd.read_csv (data_path, sep = ';')\n",
    "    for col in ['state', 'n_state', 'action_reward']:\n",
    "        data[col] = [np.array ([[np.int (k) for k in ee.split ('&')] for ee in e.split ('|')]) for e in data[col]]\n",
    "    for col in ['state', 'n_state']:\n",
    "        data[col] = [np.array ([e[0] for e in l]) for l in data[col]]\n",
    "\n",
    "    data['action'] = [[e[0] for e in l] for l in data['action_reward']]\n",
    "    data['reward'] = [tuple (e[1] for e in l) for l in data['action_reward']]\n",
    "    data.drop (columns = ['action_reward'], inplace = True)\n",
    "\n",
    "    return data"
   ]
  },
  {
   "cell_type": "code",
   "execution_count": null,
   "metadata": {},
   "outputs": [],
   "source": [
    "data = pd.read_csv ('train.csv', sep = ';')\n",
    "# for col in ['state', 'n_state', 'action_reward']:\n",
    "#     data[col] = [np.array ([[np.int (k) for k in ee.split ('&')] for ee in e.split ('|')]) for e in data[col]]\n",
    "# for col in ['state', 'n_state']:\n",
    "#     data[col] = [np.array ([e[0] for e in l]) for l in data[col]]\n",
    "\n",
    "\n"
   ]
  },
  {
   "cell_type": "code",
   "execution_count": null,
   "metadata": {},
   "outputs": [],
   "source": [
    "data['action'] = [[e[0] for e in l] for l in data['action_reward']]\n",
    "data['reward'] = [tuple (e[1] for e in l) for l in data['action_reward']]\n",
    "data.drop (columns = ['action_reward'], inplace = True)"
   ]
  },
  {
   "cell_type": "code",
   "execution_count": 9,
   "metadata": {},
   "outputs": [],
   "source": [
    "data = read_file('train.csv')"
   ]
  },
  {
   "cell_type": "code",
   "execution_count": 13,
   "metadata": {},
   "outputs": [
    {
     "data": {
      "text/html": [
       "<div>\n",
       "<style scoped>\n",
       "    .dataframe tbody tr th:only-of-type {\n",
       "        vertical-align: middle;\n",
       "    }\n",
       "\n",
       "    .dataframe tbody tr th {\n",
       "        vertical-align: top;\n",
       "    }\n",
       "\n",
       "    .dataframe thead th {\n",
       "        text-align: right;\n",
       "    }\n",
       "</style>\n",
       "<table border=\"1\" class=\"dataframe\">\n",
       "  <thead>\n",
       "    <tr style=\"text-align: right;\">\n",
       "      <th></th>\n",
       "      <th>state</th>\n",
       "      <th>n_state</th>\n",
       "      <th>action</th>\n",
       "      <th>reward</th>\n",
       "    </tr>\n",
       "  </thead>\n",
       "  <tbody>\n",
       "    <tr>\n",
       "      <th>0</th>\n",
       "      <td>[82, 845, 923, 477, 471, 699, 134, 502, 613, 4...</td>\n",
       "      <td>[82, 845, 923, 477, 471, 699, 134, 502, 613, 4...</td>\n",
       "      <td>[700, 395, 1114, 728]</td>\n",
       "      <td>(0, 0, 0, 0)</td>\n",
       "    </tr>\n",
       "    <tr>\n",
       "      <th>1</th>\n",
       "      <td>[286, 190, 344, 245, 736, 558, 879, 535, 898, ...</td>\n",
       "      <td>[286, 190, 344, 245, 736, 558, 879, 535, 898, ...</td>\n",
       "      <td>[1089, 272, 221, 1080]</td>\n",
       "      <td>(0, 1, 1, 1)</td>\n",
       "    </tr>\n",
       "    <tr>\n",
       "      <th>2</th>\n",
       "      <td>[333, 272, 879, 302, 689, 751, 328, 313, 327, ...</td>\n",
       "      <td>[333, 272, 879, 302, 689, 751, 328, 313, 327, ...</td>\n",
       "      <td>[271, 289, 751, 689]</td>\n",
       "      <td>(1, 1, 1, 1)</td>\n",
       "    </tr>\n",
       "    <tr>\n",
       "      <th>3</th>\n",
       "      <td>[960, 169, 178, 45, 488, 171, 56, 100, 192, 22...</td>\n",
       "      <td>[960, 169, 178, 45, 488, 171, 56, 100, 192, 22...</td>\n",
       "      <td>[56, 943, 488, 70]</td>\n",
       "      <td>(1, 0, 1, 0)</td>\n",
       "    </tr>\n",
       "    <tr>\n",
       "      <th>4</th>\n",
       "      <td>[172, 1163, 451, 161, 193, 301, 218, 715, 137,...</td>\n",
       "      <td>[172, 1163, 451, 161, 193, 301, 218, 715, 137,...</td>\n",
       "      <td>[542, 137, 86, 909]</td>\n",
       "      <td>(0, 1, 1, 1)</td>\n",
       "    </tr>\n",
       "    <tr>\n",
       "      <th>...</th>\n",
       "      <td>...</td>\n",
       "      <td>...</td>\n",
       "      <td>...</td>\n",
       "      <td>...</td>\n",
       "    </tr>\n",
       "    <tr>\n",
       "      <th>674</th>\n",
       "      <td>[455, 298, 124, 117, 257, 1007, 1, 993, 475, 2...</td>\n",
       "      <td>[455, 298, 124, 117, 257, 1007, 1, 993, 475, 2...</td>\n",
       "      <td>[1007, 1, 455, 147]</td>\n",
       "      <td>(1, 1, 1, 1)</td>\n",
       "    </tr>\n",
       "    <tr>\n",
       "      <th>675</th>\n",
       "      <td>[302, 255, 1, 246, 886, 307, 262, 268, 269, 33...</td>\n",
       "      <td>[302, 255, 1, 246, 886, 307, 262, 268, 269, 33...</td>\n",
       "      <td>[237, 255, 1, 150]</td>\n",
       "      <td>(0, 1, 1, 0)</td>\n",
       "    </tr>\n",
       "    <tr>\n",
       "      <th>676</th>\n",
       "      <td>[181, 258, 746, 721, 127, 173, 33, 174, 117, 1...</td>\n",
       "      <td>[181, 258, 746, 721, 127, 173, 33, 174, 117, 1...</td>\n",
       "      <td>[232, 421, 230, 655]</td>\n",
       "      <td>(0, 1, 0, 1)</td>\n",
       "    </tr>\n",
       "    <tr>\n",
       "      <th>677</th>\n",
       "      <td>[187, 50, 318, 520, 515, 705, 736, 91, 959, 31...</td>\n",
       "      <td>[187, 50, 318, 520, 515, 705, 736, 91, 959, 31...</td>\n",
       "      <td>[1139, 384, 636, 1140]</td>\n",
       "      <td>(0, 0, 1, 0)</td>\n",
       "    </tr>\n",
       "    <tr>\n",
       "      <th>678</th>\n",
       "      <td>[13, 370, 866, 276, 919, 289, 121, 280, 475, 7...</td>\n",
       "      <td>[13, 370, 866, 276, 919, 289, 121, 280, 475, 7...</td>\n",
       "      <td>[240, 280, 1114, 920]</td>\n",
       "      <td>(0, 1, 0, 0)</td>\n",
       "    </tr>\n",
       "  </tbody>\n",
       "</table>\n",
       "<p>679 rows × 4 columns</p>\n",
       "</div>"
      ],
      "text/plain": [
       "                                                 state  \\\n",
       "0    [82, 845, 923, 477, 471, 699, 134, 502, 613, 4...   \n",
       "1    [286, 190, 344, 245, 736, 558, 879, 535, 898, ...   \n",
       "2    [333, 272, 879, 302, 689, 751, 328, 313, 327, ...   \n",
       "3    [960, 169, 178, 45, 488, 171, 56, 100, 192, 22...   \n",
       "4    [172, 1163, 451, 161, 193, 301, 218, 715, 137,...   \n",
       "..                                                 ...   \n",
       "674  [455, 298, 124, 117, 257, 1007, 1, 993, 475, 2...   \n",
       "675  [302, 255, 1, 246, 886, 307, 262, 268, 269, 33...   \n",
       "676  [181, 258, 746, 721, 127, 173, 33, 174, 117, 1...   \n",
       "677  [187, 50, 318, 520, 515, 705, 736, 91, 959, 31...   \n",
       "678  [13, 370, 866, 276, 919, 289, 121, 280, 475, 7...   \n",
       "\n",
       "                                               n_state  \\\n",
       "0    [82, 845, 923, 477, 471, 699, 134, 502, 613, 4...   \n",
       "1    [286, 190, 344, 245, 736, 558, 879, 535, 898, ...   \n",
       "2    [333, 272, 879, 302, 689, 751, 328, 313, 327, ...   \n",
       "3    [960, 169, 178, 45, 488, 171, 56, 100, 192, 22...   \n",
       "4    [172, 1163, 451, 161, 193, 301, 218, 715, 137,...   \n",
       "..                                                 ...   \n",
       "674  [455, 298, 124, 117, 257, 1007, 1, 993, 475, 2...   \n",
       "675  [302, 255, 1, 246, 886, 307, 262, 268, 269, 33...   \n",
       "676  [181, 258, 746, 721, 127, 173, 33, 174, 117, 1...   \n",
       "677  [187, 50, 318, 520, 515, 705, 736, 91, 959, 31...   \n",
       "678  [13, 370, 866, 276, 919, 289, 121, 280, 475, 7...   \n",
       "\n",
       "                     action        reward  \n",
       "0     [700, 395, 1114, 728]  (0, 0, 0, 0)  \n",
       "1    [1089, 272, 221, 1080]  (0, 1, 1, 1)  \n",
       "2      [271, 289, 751, 689]  (1, 1, 1, 1)  \n",
       "3        [56, 943, 488, 70]  (1, 0, 1, 0)  \n",
       "4       [542, 137, 86, 909]  (0, 1, 1, 1)  \n",
       "..                      ...           ...  \n",
       "674     [1007, 1, 455, 147]  (1, 1, 1, 1)  \n",
       "675      [237, 255, 1, 150]  (0, 1, 1, 0)  \n",
       "676    [232, 421, 230, 655]  (0, 1, 0, 1)  \n",
       "677  [1139, 384, 636, 1140]  (0, 0, 1, 0)  \n",
       "678   [240, 280, 1114, 920]  (0, 1, 0, 0)  \n",
       "\n",
       "[679 rows x 4 columns]"
      ]
     },
     "execution_count": 13,
     "metadata": {},
     "output_type": "execute_result"
    }
   ],
   "source": [
    "data"
   ]
  },
  {
   "cell_type": "code",
   "execution_count": 12,
   "metadata": {},
   "outputs": [
    {
     "data": {
      "text/plain": [
       "array([  82,  845,  923,  477,  471,  699,  134,  502,  613,  414,  965,\n",
       "       1147])"
      ]
     },
     "execution_count": 12,
     "metadata": {},
     "output_type": "execute_result"
    }
   ],
   "source": [
    "data['state'][0]"
   ]
  },
  {
   "cell_type": "code",
   "execution_count": null,
   "metadata": {},
   "outputs": [],
   "source": []
  }
 ],
 "metadata": {
  "kernelspec": {
   "display_name": "tf",
   "language": "python",
   "name": "tf"
  },
  "language_info": {
   "codemirror_mode": {
    "name": "ipython",
    "version": 3
   },
   "file_extension": ".py",
   "mimetype": "text/x-python",
   "name": "python",
   "nbconvert_exporter": "python",
   "pygments_lexer": "ipython3",
   "version": "3.6.8"
  }
 },
 "nbformat": 4,
 "nbformat_minor": 4
}
