{
 "cells": [
  {
   "cell_type": "code",
   "execution_count": 11,
   "metadata": {},
   "outputs": [],
   "source": [
    "from data_generator import DataGenerator\n",
    "import os\n",
    "# from embeddings_generator import *\n",
    "\n",
    "\n",
    "# Hyperparameters\n",
    "\n",
    "# if __name__ == '__main__':\n",
    "\n",
    "history_length = 12 # N in article\n",
    "ra_length = 4 # K in article\n",
    "discount_factor = 0.99 # Gamma in Bellman equation\n",
    "actor_lr = 0.0001\n",
    "critic_lr = 0.001\n",
    "tau = 0.001 # τ in Algorithm 3\n",
    "batch_size = 64\n",
    "nb_episodes = 100\n",
    "nb_rounds = 50\n",
    "filename_summary = 'summary.txt'\n",
    "alpha = 0.5 # α (alpha) in Equation (1)\n",
    "gamma = 0.9 # Γ (Gamma) in Equation (4)\n",
    "buffer_size = 1000000 # Size of replay memory D in article\n",
    "fixed_length = True # Fixed memory length\n",
    "\n",
    "dg = DataGenerator('../ml-100k/u.data', os.path.abspath(os.path.dirname(os.getcwd()))+'/ml-100k/u.item')\n",
    "dg.gen_train_test(0.8, seed=42)\n",
    "\n",
    "# dg.write_csv('train.csv', dg.train, nb_states=[history_length], nb_actions=[ra_length])\n",
    "# dg.write_csv('test.csv', dg.test, nb_states=[history_length], nb_actions=[ra_length])"
   ]
  },
  {
   "cell_type": "code",
   "execution_count": 2,
   "metadata": {},
   "outputs": [],
   "source": [
    "# dg.write_csv('train.csv', dg.train, nb_states=[history_length], nb_actions=[ra_length])\n",
    "# dg.write_csv('test.csv', dg.test, nb_states=[history_length], nb_actions=[ra_length])"
   ]
  },
  {
   "cell_type": "code",
   "execution_count": 3,
   "metadata": {},
   "outputs": [],
   "source": [
    "import os"
   ]
  },
  {
   "cell_type": "code",
   "execution_count": 8,
   "metadata": {},
   "outputs": [
    {
     "data": {
      "text/plain": [
       "'/Users/yingqiang/Documents/GitHub/LIRD'"
      ]
     },
     "execution_count": 8,
     "metadata": {},
     "output_type": "execute_result"
    }
   ],
   "source": [
    "os.path.abspath(os.path.dirname(os.getcwd()))"
   ]
  },
  {
   "cell_type": "code",
   "execution_count": 3,
   "metadata": {},
   "outputs": [],
   "source": [
    "import pandas as pd\n",
    "import numpy as np\n",
    "def read_file(data_path):\n",
    "    ''' Load data from train.csv or test.csv. '''\n",
    "\n",
    "    data = pd.read_csv (data_path, sep = ';')\n",
    "    for col in ['state', 'n_state', 'action_reward']:\n",
    "        data[col] = [np.array ([[np.int (k) for k in ee.split ('&')] for ee in e.split ('|')]) for e in data[col]]\n",
    "    for col in ['state', 'n_state']:\n",
    "        data[col] = [np.array ([e[0] for e in l]) for l in data[col]]\n",
    "\n",
    "    data['action'] = [[e[0] for e in l] for l in data['action_reward']]\n",
    "    data['reward'] = [tuple (e[1] for e in l) for l in data['action_reward']]\n",
    "    data.drop (columns = ['action_reward'], inplace = True)\n",
    "\n",
    "    return data"
   ]
  },
  {
   "cell_type": "code",
   "execution_count": 4,
   "metadata": {},
   "outputs": [],
   "source": [
    "data = read_file('train.csv')"
   ]
  },
  {
   "cell_type": "code",
   "execution_count": 5,
   "metadata": {},
   "outputs": [
    {
     "data": {
      "text/html": [
       "<div>\n",
       "<style scoped>\n",
       "    .dataframe tbody tr th:only-of-type {\n",
       "        vertical-align: middle;\n",
       "    }\n",
       "\n",
       "    .dataframe tbody tr th {\n",
       "        vertical-align: top;\n",
       "    }\n",
       "\n",
       "    .dataframe thead th {\n",
       "        text-align: right;\n",
       "    }\n",
       "</style>\n",
       "<table border=\"1\" class=\"dataframe\">\n",
       "  <thead>\n",
       "    <tr style=\"text-align: right;\">\n",
       "      <th></th>\n",
       "      <th>state</th>\n",
       "      <th>n_state</th>\n",
       "      <th>action</th>\n",
       "      <th>reward</th>\n",
       "    </tr>\n",
       "  </thead>\n",
       "  <tbody>\n",
       "    <tr>\n",
       "      <th>0</th>\n",
       "      <td>[302, 127, 100, 50, 475, 181, 847, 1007, 1, 27...</td>\n",
       "      <td>[302, 127, 100, 50, 475, 181, 847, 1007, 1, 27...</td>\n",
       "      <td>[111, 285, 257, 471]</td>\n",
       "      <td>(0, 1, 0, 1)</td>\n",
       "    </tr>\n",
       "    <tr>\n",
       "      <th>1</th>\n",
       "      <td>[302, 127, 100, 50, 475, 181, 847, 1007, 1, 27...</td>\n",
       "      <td>[302, 127, 100, 50, 475, 181, 847, 1007, 1, 27...</td>\n",
       "      <td>[926, 283, 15, 151]</td>\n",
       "      <td>(0, 1, 0, 1)</td>\n",
       "    </tr>\n",
       "    <tr>\n",
       "      <th>2</th>\n",
       "      <td>[302, 127, 100, 50, 475, 181, 847, 1007, 1, 27...</td>\n",
       "      <td>[302, 127, 100, 50, 475, 181, 847, 1007, 1, 27...</td>\n",
       "      <td>[25, 763, 410, 240]</td>\n",
       "      <td>(0, 0, 0, 0)</td>\n",
       "    </tr>\n",
       "    <tr>\n",
       "      <th>3</th>\n",
       "      <td>[127, 100, 50, 475, 181, 847, 1007, 1, 275, 84...</td>\n",
       "      <td>[127, 100, 50, 475, 181, 847, 1007, 1, 275, 84...</td>\n",
       "      <td>[301, 300, 187, 135]</td>\n",
       "      <td>(1, 0, 1, 0)</td>\n",
       "    </tr>\n",
       "    <tr>\n",
       "      <th>4</th>\n",
       "      <td>[127, 100, 50, 475, 181, 847, 1007, 1, 275, 84...</td>\n",
       "      <td>[127, 100, 50, 475, 181, 847, 1007, 1, 275, 84...</td>\n",
       "      <td>[210, 204, 836, 134]</td>\n",
       "      <td>(0, 1, 1, 1)</td>\n",
       "    </tr>\n",
       "    <tr>\n",
       "      <th>...</th>\n",
       "      <td>...</td>\n",
       "      <td>...</td>\n",
       "      <td>...</td>\n",
       "      <td>...</td>\n",
       "    </tr>\n",
       "    <tr>\n",
       "      <th>15949</th>\n",
       "      <td>[475, 276, 919, 100, 619, 126, 713, 1, 25, 744...</td>\n",
       "      <td>[475, 276, 919, 100, 619, 126, 713, 1, 25, 744...</td>\n",
       "      <td>[237, 289, 117, 121]</td>\n",
       "      <td>(1, 1, 1, 1)</td>\n",
       "    </tr>\n",
       "    <tr>\n",
       "      <th>15950</th>\n",
       "      <td>[475, 276, 919, 100, 619, 126, 713, 1, 25, 744...</td>\n",
       "      <td>[475, 276, 919, 100, 619, 126, 713, 1, 25, 744...</td>\n",
       "      <td>[106, 129, 405, 291]</td>\n",
       "      <td>(1, 1, 1, 0)</td>\n",
       "    </tr>\n",
       "    <tr>\n",
       "      <th>15951</th>\n",
       "      <td>[475, 276, 919, 100, 619, 126, 713, 1, 25, 744...</td>\n",
       "      <td>[475, 276, 919, 100, 619, 126, 713, 1, 25, 744...</td>\n",
       "      <td>[717, 370, 763, 1114]</td>\n",
       "      <td>(1, 1, 0, 0)</td>\n",
       "    </tr>\n",
       "    <tr>\n",
       "      <th>15952</th>\n",
       "      <td>[276, 919, 100, 619, 126, 713, 1, 25, 744, 696...</td>\n",
       "      <td>[276, 919, 100, 619, 126, 713, 1, 25, 744, 696...</td>\n",
       "      <td>[240, 920, 829, 280]</td>\n",
       "      <td>(0, 0, 0, 1)</td>\n",
       "    </tr>\n",
       "    <tr>\n",
       "      <th>15953</th>\n",
       "      <td>[919, 100, 619, 126, 713, 1, 25, 744, 696, 13,...</td>\n",
       "      <td>[919, 100, 619, 126, 713, 1, 25, 744, 696, 13,...</td>\n",
       "      <td>[820, 120, 1028, 1079]</td>\n",
       "      <td>(0, 0, 0, 0)</td>\n",
       "    </tr>\n",
       "  </tbody>\n",
       "</table>\n",
       "<p>15954 rows × 4 columns</p>\n",
       "</div>"
      ],
      "text/plain": [
       "                                                   state  \\\n",
       "0      [302, 127, 100, 50, 475, 181, 847, 1007, 1, 27...   \n",
       "1      [302, 127, 100, 50, 475, 181, 847, 1007, 1, 27...   \n",
       "2      [302, 127, 100, 50, 475, 181, 847, 1007, 1, 27...   \n",
       "3      [127, 100, 50, 475, 181, 847, 1007, 1, 275, 84...   \n",
       "4      [127, 100, 50, 475, 181, 847, 1007, 1, 275, 84...   \n",
       "...                                                  ...   \n",
       "15949  [475, 276, 919, 100, 619, 126, 713, 1, 25, 744...   \n",
       "15950  [475, 276, 919, 100, 619, 126, 713, 1, 25, 744...   \n",
       "15951  [475, 276, 919, 100, 619, 126, 713, 1, 25, 744...   \n",
       "15952  [276, 919, 100, 619, 126, 713, 1, 25, 744, 696...   \n",
       "15953  [919, 100, 619, 126, 713, 1, 25, 744, 696, 13,...   \n",
       "\n",
       "                                                 n_state  \\\n",
       "0      [302, 127, 100, 50, 475, 181, 847, 1007, 1, 27...   \n",
       "1      [302, 127, 100, 50, 475, 181, 847, 1007, 1, 27...   \n",
       "2      [302, 127, 100, 50, 475, 181, 847, 1007, 1, 27...   \n",
       "3      [127, 100, 50, 475, 181, 847, 1007, 1, 275, 84...   \n",
       "4      [127, 100, 50, 475, 181, 847, 1007, 1, 275, 84...   \n",
       "...                                                  ...   \n",
       "15949  [475, 276, 919, 100, 619, 126, 713, 1, 25, 744...   \n",
       "15950  [475, 276, 919, 100, 619, 126, 713, 1, 25, 744...   \n",
       "15951  [475, 276, 919, 100, 619, 126, 713, 1, 25, 744...   \n",
       "15952  [276, 919, 100, 619, 126, 713, 1, 25, 744, 696...   \n",
       "15953  [919, 100, 619, 126, 713, 1, 25, 744, 696, 13,...   \n",
       "\n",
       "                       action        reward  \n",
       "0        [111, 285, 257, 471]  (0, 1, 0, 1)  \n",
       "1         [926, 283, 15, 151]  (0, 1, 0, 1)  \n",
       "2         [25, 763, 410, 240]  (0, 0, 0, 0)  \n",
       "3        [301, 300, 187, 135]  (1, 0, 1, 0)  \n",
       "4        [210, 204, 836, 134]  (0, 1, 1, 1)  \n",
       "...                       ...           ...  \n",
       "15949    [237, 289, 117, 121]  (1, 1, 1, 1)  \n",
       "15950    [106, 129, 405, 291]  (1, 1, 1, 0)  \n",
       "15951   [717, 370, 763, 1114]  (1, 1, 0, 0)  \n",
       "15952    [240, 920, 829, 280]  (0, 0, 0, 1)  \n",
       "15953  [820, 120, 1028, 1079]  (0, 0, 0, 0)  \n",
       "\n",
       "[15954 rows x 4 columns]"
      ]
     },
     "execution_count": 5,
     "metadata": {},
     "output_type": "execute_result"
    }
   ],
   "source": [
    "data"
   ]
  },
  {
   "cell_type": "code",
   "execution_count": null,
   "metadata": {},
   "outputs": [],
   "source": []
  }
 ],
 "metadata": {
  "kernelspec": {
   "display_name": "tf",
   "language": "python",
   "name": "tf"
  },
  "language_info": {
   "codemirror_mode": {
    "name": "ipython",
    "version": 3
   },
   "file_extension": ".py",
   "mimetype": "text/x-python",
   "name": "python",
   "nbconvert_exporter": "python",
   "pygments_lexer": "ipython3",
   "version": "3.6.8"
  }
 },
 "nbformat": 4,
 "nbformat_minor": 4
}
