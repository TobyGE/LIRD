{
 "cells": [
  {
   "cell_type": "code",
   "execution_count": 6,
   "metadata": {},
   "outputs": [],
   "source": [
    "from data_generator import DataGenerator\n",
    "# from embeddings_generator import *\n",
    "\n",
    "\n",
    "# Hyperparameters\n",
    "\n",
    "# if __name__ == '__main__':\n",
    "\n",
    "history_length = 12 # N in article\n",
    "ra_length = 4 # K in article\n",
    "discount_factor = 0.99 # Gamma in Bellman equation\n",
    "actor_lr = 0.0001\n",
    "critic_lr = 0.001\n",
    "tau = 0.001 # τ in Algorithm 3\n",
    "batch_size = 64\n",
    "nb_episodes = 100\n",
    "nb_rounds = 50\n",
    "filename_summary = 'summary.txt'\n",
    "alpha = 0.5 # α (alpha) in Equation (1)\n",
    "gamma = 0.9 # Γ (Gamma) in Equation (4)\n",
    "buffer_size = 1000000 # Size of replay memory D in article\n",
    "fixed_length = True # Fixed memory length\n",
    "\n",
    "dg = DataGenerator('ml-100k/u.data', 'ml-100k/u.item')\n",
    "dg.gen_train_test(0.8, seed=42)\n",
    "\n",
    "# dg.write_csv('train.csv', dg.train, nb_states=[history_length], nb_actions=[ra_length])\n",
    "# dg.write_csv('test.csv', dg.test, nb_states=[history_length], nb_actions=[ra_length])\n"
   ]
  },
  {
   "cell_type": "code",
   "execution_count": 22,
   "metadata": {},
   "outputs": [],
   "source": [
    "import random\n",
    "def sample_histo_v1(user_histo, action_ratio=0.8, max_samp_by_user=5,  max_state=100, max_action=50, nb_states=[], nb_actions=[]):\n",
    "    '''\n",
    "    For a given historic, make one or multiple sampling.\n",
    "    If no optional argument given for nb_states and nb_actions, then the sampling\n",
    "    is random and each sample can have differents size for action and state.\n",
    "    To normalize sampling we need to give list of the numbers of states and actions\n",
    "    to be sampled.\n",
    "\n",
    "    Parameters\n",
    "    ----------\n",
    "    user_histo :  DataFrame\n",
    "                      historic of user\n",
    "    delimiter :       string, optional\n",
    "                      delimiter for the csv\n",
    "    action_ratio :    float, optional\n",
    "                      ratio form which movies in history will be selected\n",
    "    max_samp_by_user: int, optional\n",
    "                      Number max of sample to make by user\n",
    "    max_state :       int, optional\n",
    "                      Number max of movies to take for the 'state' column\n",
    "    max_action :      int, optional\n",
    "                      Number max of movies to take for the 'action' action\n",
    "    nb_states :       array(int), optional\n",
    "                      Numbers of movies to be taken for each sample made on user's historic\n",
    "    nb_actions :      array(int), optional\n",
    "                      Numbers of rating to be taken for each sample made on user's historic\n",
    "\n",
    "    Returns\n",
    "    -------\n",
    "    states :         List(String)\n",
    "                     All the states sampled, format of a sample: itemId&rating\n",
    "    actions :        List(String)\n",
    "                     All the actions sampled, format of a sample: itemId&rating\n",
    "\n",
    "\n",
    "    Notes\n",
    "    -----\n",
    "    States must be before(timestamp<) the actions.\n",
    "    If given, size of nb_states is the numbller of sample by user\n",
    "    sizes of nb_states and nb_actions must be equals\n",
    "    '''\n",
    "\n",
    "    n = len (user_histo)\n",
    "    sep = int (action_ratio * n)\n",
    "    nb_sample = random.randint (1, max_samp_by_user)\n",
    "    if not nb_states:\n",
    "        nb_states = [min (random.randint (1, sep), max_state) for i in range (nb_sample)]\n",
    "    if not nb_actions:\n",
    "        nb_actions = [min (random.randint (1, n - sep), max_action) for i in range (nb_sample)]\n",
    "    assert len (nb_states) == len (nb_actions), 'Given array must have the same size'\n",
    "\n",
    "    states = []\n",
    "    actions = []\n",
    "    # SELECT SAMPLES IN HISTO\n",
    "    for i in range (len (nb_states)):\n",
    "        sample_states = user_histo.iloc[0:sep].sample (nb_states[i])\n",
    "        sample_actions = user_histo.iloc[-(n - sep):].sample (nb_actions[i])\n",
    "\n",
    "        sample_state = []\n",
    "        sample_action = []\n",
    "        for j in range (nb_states[i]):\n",
    "            row = sample_states.iloc[j]\n",
    "            # FORMAT STATE\n",
    "            state = str (row.loc['itemId']) + '&' + str (row.loc['rating'])\n",
    "            sample_state.append (state)\n",
    "\n",
    "        for j in range (nb_actions[i]):\n",
    "            row = sample_actions.iloc[j]\n",
    "            # FORMAT ACTION\n",
    "            action = str (row.loc['itemId']) + '&' + str (row.loc['rating'])\n",
    "            sample_action.append (action)\n",
    "\n",
    "\n",
    "        states.append (sample_state)\n",
    "        actions.append (sample_action)\n",
    "\n",
    "    return states, actions"
   ]
  },
  {
   "cell_type": "code",
   "execution_count": 13,
   "metadata": {},
   "outputs": [],
   "source": [
    "import random\n",
    "def sample_histo_v2(user_histo, action_ratio=0.8, max_samp_by_user=5,  max_state=100, max_action=50, nb_states=[], nb_actions=[]):\n",
    "    '''\n",
    "    For a given historic, make one or multiple sampling.\n",
    "    If no optional argument given for nb_states and nb_actions, then the sampling\n",
    "    is random and each sample can have differents size for action and state.\n",
    "    To normalize sampling we need to give list of the numbers of states and actions\n",
    "    to be sampled.\n",
    "\n",
    "    Parameters\n",
    "    ----------\n",
    "    user_histo :  DataFrame\n",
    "                      historic of user\n",
    "    delimiter :       string, optional\n",
    "                      delimiter for the csv\n",
    "    action_ratio :    float, optional\n",
    "                      ratio form which movies in history will be selected\n",
    "    max_samp_by_user: int, optional\n",
    "                      Number max of sample to make by user\n",
    "    max_state :       int, optional\n",
    "                      Number max of movies to take for the 'state' column\n",
    "    max_action :      int, optional\n",
    "                      Number max of movies to take for the 'action' action\n",
    "    nb_states :       array(int), optional\n",
    "                      Numbers of movies to be taken for each sample made on user's historic\n",
    "    nb_actions :      array(int), optional\n",
    "                      Numbers of rating to be taken for each sample made on user's historic\n",
    "\n",
    "    Returns\n",
    "    -------\n",
    "    states :         List(String)\n",
    "                     All the states sampled, format of a sample: itemId&rating\n",
    "    actions :        List(String)\n",
    "                     All the actions sampled, format of a sample: itemId&rating\n",
    "\n",
    "\n",
    "    Notes\n",
    "    -----\n",
    "    States must be before(timestamp<) the actions.\n",
    "    If given, size of nb_states is the numbller of sample by user\n",
    "    sizes of nb_states and nb_actions must be equals\n",
    "    '''\n",
    "\n",
    "    n = len(user_histo)\n",
    "    sep = int (action_ratio * n)\n",
    "    nb_sample = random.randint (1, max_samp_by_user)\n",
    "    if not nb_states:\n",
    "        nb_states = [min (random.randint (1, sep), max_state) for i in range (nb_sample)]\n",
    "    if not nb_actions:\n",
    "        nb_actions = [min (random.randint (1, n - sep), max_action) for i in range (nb_sample)]\n",
    "    assert len (nb_states) == len (nb_actions), 'Given array must have the same size'\n",
    "    \n",
    "    states = []\n",
    "    actions = []\n",
    "    for i in range (len (nb_states)):\n",
    "        user_states = user_histo[user_histo['rating']>=4]\n",
    "        if len(user_states) >= nb_states[i]:\n",
    "            sample_states = user_states.sample (nb_states[i])\n",
    "        else:\n",
    "            continue\n",
    "\n",
    "        sample_actions = user_histo.iloc[-(n - sep):].sample (nb_actions[i])\n",
    "\n",
    "        sample_state = []\n",
    "        sample_action = []\n",
    "\n",
    "        for j in range (nb_states[i]):\n",
    "            row = sample_states.iloc[j]\n",
    "            # FORMAT STATE\n",
    "            state = str (row.loc['itemId']) + '&' + str (1)\n",
    "            sample_state.append (state)\n",
    "\n",
    "        for k in range (nb_actions[i]):\n",
    "            row = sample_actions.iloc[k]\n",
    "            # FORMAT ACTION\n",
    "            if row.loc['rating'] >= 4:\n",
    "                action = str (row.loc['itemId']) + '&' + str (1)\n",
    "            else:\n",
    "                action = str (row.loc['itemId']) + '&' + str (0)\n",
    "            sample_action.append (action)\n",
    "\n",
    "        states.append (sample_state)\n",
    "        actions.append (sample_action)\n",
    "    return states, actions"
   ]
  },
  {
   "cell_type": "code",
   "execution_count": 19,
   "metadata": {},
   "outputs": [],
   "source": [
    "import random\n",
    "import copy\n",
    "def sample_histo_v3(user_histo, action_ratio=0.8, max_samp_by_user=5,  max_state=100, max_action=50, nb_states=[], nb_actions=[]):\n",
    "    '''\n",
    "    For a given historic, make one or multiple sampling.\n",
    "    If no optional argument given for nb_states and nb_actions, then the sampling\n",
    "    is random and each sample can have differents size for action and state.\n",
    "    To normalize sampling we need to give list of the numbers of states and actions\n",
    "    to be sampled.\n",
    "\n",
    "    Parameters\n",
    "    ----------\n",
    "    user_histo :  DataFrame\n",
    "                      historic of user\n",
    "    delimiter :       string, optional\n",
    "                      delimiter for the csv\n",
    "    action_ratio :    float, optional\n",
    "                      ratio form which movies in history will be selected\n",
    "    max_samp_by_user: int, optional\n",
    "                      Number max of sample to make by user\n",
    "    max_state :       int, optional\n",
    "                      Number max of movies to take for the 'state' column\n",
    "    max_action :      int, optional\n",
    "                      Number max of movies to take for the 'action' action\n",
    "    nb_states :       array(int), optional\n",
    "                      Numbers of movies to be taken for each sample made on user's historic\n",
    "    nb_actions :      array(int), optional\n",
    "                      Numbers of rating to be taken for each sample made on user's historic\n",
    "\n",
    "    Returns\n",
    "    -------\n",
    "    states :         List(String)\n",
    "                     All the states sampled, format of a sample: itemId&rating\n",
    "    actions :        List(String)\n",
    "                     All the actions sampled, format of a sample: itemId&rating\n",
    "\n",
    "\n",
    "    Notes\n",
    "    -----\n",
    "    States must be before(timestamp<) the actions.\n",
    "    If given, size of nb_states is the numbller of sample by user\n",
    "    sizes of nb_states and nb_actions must be equals\n",
    "    '''\n",
    "\n",
    "    n = len(user_histo)\n",
    "    sep = int (action_ratio * n)\n",
    "    nb_sample = random.randint (1, max_samp_by_user)\n",
    "    if not nb_states:\n",
    "        nb_states = [min (random.randint (1, sep), max_state) for i in range (nb_sample)]\n",
    "    if not nb_actions:\n",
    "        nb_actions = [min (random.randint (1, n - sep), max_action) for i in range (nb_sample)]\n",
    "    assert len (nb_states) == len (nb_actions), 'Given array must have the same size'\n",
    "    \n",
    "    states = []\n",
    "    actions = []\n",
    "    rewards = []\n",
    "    for n in range(len(nb_states)):\n",
    "        state_len = nb_states[n]\n",
    "        action_len = nb_actions[n]\n",
    "\n",
    "        item_list = user_histo['itemId'].values.tolist()\n",
    "        click_list = user_histo['rating'].values.tolist()\n",
    "        initial_state = []\n",
    "        initial_end = 0\n",
    "        for i in range(len(item_list)):\n",
    "            if click_list[i] >= 4 and len(initial_state) < state_len:\n",
    "                initial_state.append(item_list[i])\n",
    "                initial_end = i\n",
    "\n",
    "\n",
    "\n",
    "        if len(initial_state) == state_len and (initial_end + action_len <= len(item_list)):\n",
    "            current_state = copy.copy(initial_state)\n",
    "            for i in range(initial_end+1,len(item_list),action_len):\n",
    "                if i+action_len <= len(item_list):\n",
    "\n",
    "                    actions.append([str(item) + '&' + str (1) if rating >= 4 else str(item) + '&' + str (0) for item,rating in zip(item_list[i:i+action_len],click_list[i:i+action_len])])\n",
    "                    rewards.append(click_list[i:i+action_len])\n",
    "                    states.append([str(i) + '&' + str (1) for i in copy.copy(current_state)])\n",
    "                    for j in range(i,i+action_len):\n",
    "                        if click_list[j] == 1:\n",
    "                            current_state.append(item_list[j])\n",
    "                            del current_state[0]\n",
    "    return states, actions"
   ]
  },
  {
   "cell_type": "code",
   "execution_count": 59,
   "metadata": {},
   "outputs": [],
   "source": [
    "user_histo = dg.train[0]"
   ]
  },
  {
   "cell_type": "code",
   "execution_count": 8,
   "metadata": {},
   "outputs": [],
   "source": [
    "user_histo = dg.train[0]\n",
    "action_ratio=0.8\n",
    "max_samp_by_user=5\n",
    "max_state=100\n",
    "max_action=50\n",
    "nb_states=[12]\n",
    "nb_actions=[4]"
   ]
  },
  {
   "cell_type": "code",
   "execution_count": 9,
   "metadata": {},
   "outputs": [
    {
     "data": {
      "text/plain": [
       "(271, 216, 2)"
      ]
     },
     "execution_count": 9,
     "metadata": {},
     "output_type": "execute_result"
    }
   ],
   "source": [
    "n = len (user_histo)\n",
    "sep = int (action_ratio * n)\n",
    "nb_sample = random.randint (1, max_samp_by_user)\n",
    "n,sep,nb_sample"
   ]
  },
  {
   "cell_type": "code",
   "execution_count": 10,
   "metadata": {},
   "outputs": [],
   "source": [
    "if not nb_states:\n",
    "    nb_states = [min (random.randint (1, sep), max_state) for i in range (nb_sample)]\n",
    "if not nb_actions:\n",
    "    nb_actions = [min (random.randint (1, n - sep), max_action) for i in range (nb_sample)]\n",
    "assert len (nb_states) == len (nb_actions), 'Given array must have the same size'"
   ]
  },
  {
   "cell_type": "code",
   "execution_count": 24,
   "metadata": {},
   "outputs": [
    {
     "name": "stdout",
     "output_type": "stream",
     "text": [
      "197&5|428&3|168&5|486&4|181&4|202&5|238&5|477&4|234&4|480&5|367&4|240&3\n",
      "722&2|1052&2|502&4|525&4\n",
      "197&5|428&3|168&5|486&4|181&4|202&5|238&5|477&4|234&4|480&5|367&4|240&3|722&2|1052&2|502&4|525&4\n"
     ]
    }
   ],
   "source": [
    "for user_histo in dg.train:\n",
    "    states, actions = sample_histo_v1(user_histo,nb_states=[12],nb_actions=[4])\n",
    "#     print(states)\n",
    "#     print(actions)\n",
    "#     break\n",
    "    for i in range (len (states)):\n",
    "        # FORMAT STATE\n",
    "        state_str = '|'.join (states[i])\n",
    "        print(state_str)\n",
    "        # FORMAT ACTION\n",
    "        action_str = '|'.join (actions[i])\n",
    "        print(action_str)\n",
    "        # FORMAT N_STATE\n",
    "        n_state_str = state_str + '|' + action_str\n",
    "        print(n_state_str)\n",
    "        break\n",
    "    break"
   ]
  },
  {
   "cell_type": "code",
   "execution_count": 25,
   "metadata": {},
   "outputs": [
    {
     "name": "stdout",
     "output_type": "stream",
     "text": [
      "8&1|613&1|205&1|435&1|945&1|836&1|42&1|492&1|478&1|367&1|98&1|209&1\n",
      "579&0|715&0|722&0|88&0\n",
      "8&1|613&1|205&1|435&1|945&1|836&1|42&1|492&1|478&1|367&1|98&1|209&1|579&0|715&0|722&0|88&0\n"
     ]
    }
   ],
   "source": [
    "for user_histo in dg.train:\n",
    "    states, actions = sample_histo_v2(user_histo,nb_states=[12],nb_actions=[4])\n",
    "#     print(states)\n",
    "#     print(actions)\n",
    "#     break\n",
    "    for i in range (len (states)):\n",
    "        # FORMAT STATE\n",
    "        state_str = '|'.join (states[i])\n",
    "        print(state_str)\n",
    "        # FORMAT ACTION\n",
    "        action_str = '|'.join (actions[i])\n",
    "        print(action_str)\n",
    "        # FORMAT N_STATE\n",
    "        n_state_str = state_str + '|' + action_str\n",
    "        print(n_state_str)\n",
    "        break\n",
    "    break"
   ]
  },
  {
   "cell_type": "code",
   "execution_count": 31,
   "metadata": {},
   "outputs": [
    {
     "name": "stdout",
     "output_type": "stream",
     "text": [
      "63\n"
     ]
    },
    {
     "name": "stdin",
     "output_type": "stream",
     "text": [
      " \n"
     ]
    },
    {
     "name": "stdout",
     "output_type": "stream",
     "text": [
      "53\n"
     ]
    },
    {
     "name": "stdin",
     "output_type": "stream",
     "text": [
      " \n"
     ]
    },
    {
     "name": "stdout",
     "output_type": "stream",
     "text": [
      "2\n"
     ]
    },
    {
     "name": "stdin",
     "output_type": "stream",
     "text": [
      " \n"
     ]
    },
    {
     "name": "stdout",
     "output_type": "stream",
     "text": [
      "12\n"
     ]
    },
    {
     "name": "stdin",
     "output_type": "stream",
     "text": [
      " \n"
     ]
    },
    {
     "name": "stdout",
     "output_type": "stream",
     "text": [
      "50\n"
     ]
    },
    {
     "name": "stdin",
     "output_type": "stream",
     "text": [
      " \n"
     ]
    },
    {
     "name": "stdout",
     "output_type": "stream",
     "text": [
      "2\n"
     ]
    },
    {
     "name": "stdin",
     "output_type": "stream",
     "text": [
      " \n"
     ]
    },
    {
     "name": "stdout",
     "output_type": "stream",
     "text": [
      "7\n"
     ]
    },
    {
     "name": "stdin",
     "output_type": "stream",
     "text": [
      " \n"
     ]
    },
    {
     "name": "stdout",
     "output_type": "stream",
     "text": [
      "39\n"
     ]
    },
    {
     "ename": "KeyboardInterrupt",
     "evalue": "Interrupted by user",
     "output_type": "error",
     "traceback": [
      "\u001b[0;31m---------------------------------------------------------------------------\u001b[0m",
      "\u001b[0;31mKeyboardInterrupt\u001b[0m                         Traceback (most recent call last)",
      "\u001b[0;32m<ipython-input-31-5861c0cbf22d>\u001b[0m in \u001b[0;36m<module>\u001b[0;34m\u001b[0m\n\u001b[1;32m     15\u001b[0m \u001b[0;31m#         print(n_state_str)\u001b[0m\u001b[0;34m\u001b[0m\u001b[0;34m\u001b[0m\u001b[0;34m\u001b[0m\u001b[0m\n\u001b[1;32m     16\u001b[0m \u001b[0;34m\u001b[0m\u001b[0m\n\u001b[0;32m---> 17\u001b[0;31m     \u001b[0minput\u001b[0m\u001b[0;34m(\u001b[0m\u001b[0;34m)\u001b[0m\u001b[0;34m\u001b[0m\u001b[0;34m\u001b[0m\u001b[0m\n\u001b[0m",
      "\u001b[0;32m~/anaconda3/envs/tf/lib/python3.6/site-packages/ipykernel/kernelbase.py\u001b[0m in \u001b[0;36mraw_input\u001b[0;34m(self, prompt)\u001b[0m\n\u001b[1;32m    861\u001b[0m             \u001b[0mself\u001b[0m\u001b[0;34m.\u001b[0m\u001b[0m_parent_ident\u001b[0m\u001b[0;34m,\u001b[0m\u001b[0;34m\u001b[0m\u001b[0;34m\u001b[0m\u001b[0m\n\u001b[1;32m    862\u001b[0m             \u001b[0mself\u001b[0m\u001b[0;34m.\u001b[0m\u001b[0m_parent_header\u001b[0m\u001b[0;34m,\u001b[0m\u001b[0;34m\u001b[0m\u001b[0;34m\u001b[0m\u001b[0m\n\u001b[0;32m--> 863\u001b[0;31m             \u001b[0mpassword\u001b[0m\u001b[0;34m=\u001b[0m\u001b[0;32mFalse\u001b[0m\u001b[0;34m,\u001b[0m\u001b[0;34m\u001b[0m\u001b[0;34m\u001b[0m\u001b[0m\n\u001b[0m\u001b[1;32m    864\u001b[0m         )\n\u001b[1;32m    865\u001b[0m \u001b[0;34m\u001b[0m\u001b[0m\n",
      "\u001b[0;32m~/anaconda3/envs/tf/lib/python3.6/site-packages/ipykernel/kernelbase.py\u001b[0m in \u001b[0;36m_input_request\u001b[0;34m(self, prompt, ident, parent, password)\u001b[0m\n\u001b[1;32m    891\u001b[0m             \u001b[0;32mexcept\u001b[0m \u001b[0mKeyboardInterrupt\u001b[0m\u001b[0;34m:\u001b[0m\u001b[0;34m\u001b[0m\u001b[0;34m\u001b[0m\u001b[0m\n\u001b[1;32m    892\u001b[0m                 \u001b[0;31m# re-raise KeyboardInterrupt, to truncate traceback\u001b[0m\u001b[0;34m\u001b[0m\u001b[0;34m\u001b[0m\u001b[0;34m\u001b[0m\u001b[0m\n\u001b[0;32m--> 893\u001b[0;31m                 \u001b[0;32mraise\u001b[0m \u001b[0mKeyboardInterrupt\u001b[0m\u001b[0;34m(\u001b[0m\u001b[0;34m\"Interrupted by user\"\u001b[0m\u001b[0;34m)\u001b[0m \u001b[0;32mfrom\u001b[0m \u001b[0;32mNone\u001b[0m\u001b[0;34m\u001b[0m\u001b[0;34m\u001b[0m\u001b[0m\n\u001b[0m\u001b[1;32m    894\u001b[0m             \u001b[0;32melse\u001b[0m\u001b[0;34m:\u001b[0m\u001b[0;34m\u001b[0m\u001b[0;34m\u001b[0m\u001b[0m\n\u001b[1;32m    895\u001b[0m                 \u001b[0;32mbreak\u001b[0m\u001b[0;34m\u001b[0m\u001b[0;34m\u001b[0m\u001b[0m\n",
      "\u001b[0;31mKeyboardInterrupt\u001b[0m: Interrupted by user"
     ]
    }
   ],
   "source": [
    "for user_histo in dg.train:\n",
    "    states, actions = sample_histo_v3(user_histo,nb_states=[12],nb_actions=[4])\n",
    "    print(len(states))\n",
    "#     print(actions)\n",
    "#     break\n",
    "    for i in range (len (states)):\n",
    "        # FORMAT STATE\n",
    "        state_str = '|'.join (states[i])\n",
    "#         print(state_str)\n",
    "        # FORMAT ACTION\n",
    "        action_str = '|'.join (actions[i])\n",
    "#         print(action_str)\n",
    "        # FORMAT N_STATE\n",
    "        n_state_str = state_str + '|' + action_str\n",
    "#         print(n_state_str)\n",
    "        \n",
    "        "
   ]
  },
  {
   "cell_type": "code",
   "execution_count": 30,
   "metadata": {},
   "outputs": [],
   "source": [
    "dg.write_csv('train.csv', dg.train, nb_states=[history_length], nb_actions=[ra_length])"
   ]
  },
  {
   "cell_type": "code",
   "execution_count": 8,
   "metadata": {},
   "outputs": [],
   "source": [
    "import pandas as pd\n",
    "import numpy as np\n",
    "def read_file(data_path):\n",
    "    ''' Load data from train.csv or test.csv. '''\n",
    "\n",
    "    data = pd.read_csv (data_path, sep = ';')\n",
    "    for col in ['state', 'n_state', 'action_reward']:\n",
    "        data[col] = [np.array ([[np.int (k) for k in ee.split ('&')] for ee in e.split ('|')]) for e in data[col]]\n",
    "    for col in ['state', 'n_state']:\n",
    "        data[col] = [np.array ([e[0] for e in l]) for l in data[col]]\n",
    "\n",
    "    data['action'] = [[e[0] for e in l] for l in data['action_reward']]\n",
    "    data['reward'] = [tuple (e[1] for e in l) for l in data['action_reward']]\n",
    "    data.drop (columns = ['action_reward'], inplace = True)\n",
    "\n",
    "    return data"
   ]
  },
  {
   "cell_type": "code",
   "execution_count": null,
   "metadata": {},
   "outputs": [],
   "source": [
    "data = pd.read_csv ('train.csv', sep = ';')\n",
    "# for col in ['state', 'n_state', 'action_reward']:\n",
    "#     data[col] = [np.array ([[np.int (k) for k in ee.split ('&')] for ee in e.split ('|')]) for e in data[col]]\n",
    "# for col in ['state', 'n_state']:\n",
    "#     data[col] = [np.array ([e[0] for e in l]) for l in data[col]]\n",
    "\n",
    "\n"
   ]
  },
  {
   "cell_type": "code",
   "execution_count": null,
   "metadata": {},
   "outputs": [],
   "source": [
    "data['action'] = [[e[0] for e in l] for l in data['action_reward']]\n",
    "data['reward'] = [tuple (e[1] for e in l) for l in data['action_reward']]\n",
    "data.drop (columns = ['action_reward'], inplace = True)"
   ]
  },
  {
   "cell_type": "code",
   "execution_count": 9,
   "metadata": {},
   "outputs": [],
   "source": [
    "data = read_file('train.csv')"
   ]
  },
  {
   "cell_type": "code",
   "execution_count": 13,
   "metadata": {},
   "outputs": [
    {
     "data": {
      "text/html": [
       "<div>\n",
       "<style scoped>\n",
       "    .dataframe tbody tr th:only-of-type {\n",
       "        vertical-align: middle;\n",
       "    }\n",
       "\n",
       "    .dataframe tbody tr th {\n",
       "        vertical-align: top;\n",
       "    }\n",
       "\n",
       "    .dataframe thead th {\n",
       "        text-align: right;\n",
       "    }\n",
       "</style>\n",
       "<table border=\"1\" class=\"dataframe\">\n",
       "  <thead>\n",
       "    <tr style=\"text-align: right;\">\n",
       "      <th></th>\n",
       "      <th>state</th>\n",
       "      <th>n_state</th>\n",
       "      <th>action</th>\n",
       "      <th>reward</th>\n",
       "    </tr>\n",
       "  </thead>\n",
       "  <tbody>\n",
       "    <tr>\n",
       "      <th>0</th>\n",
       "      <td>[82, 845, 923, 477, 471, 699, 134, 502, 613, 4...</td>\n",
       "      <td>[82, 845, 923, 477, 471, 699, 134, 502, 613, 4...</td>\n",
       "      <td>[700, 395, 1114, 728]</td>\n",
       "      <td>(0, 0, 0, 0)</td>\n",
       "    </tr>\n",
       "    <tr>\n",
       "      <th>1</th>\n",
       "      <td>[286, 190, 344, 245, 736, 558, 879, 535, 898, ...</td>\n",
       "      <td>[286, 190, 344, 245, 736, 558, 879, 535, 898, ...</td>\n",
       "      <td>[1089, 272, 221, 1080]</td>\n",
       "      <td>(0, 1, 1, 1)</td>\n",
       "    </tr>\n",
       "    <tr>\n",
       "      <th>2</th>\n",
       "      <td>[333, 272, 879, 302, 689, 751, 328, 313, 327, ...</td>\n",
       "      <td>[333, 272, 879, 302, 689, 751, 328, 313, 327, ...</td>\n",
       "      <td>[271, 289, 751, 689]</td>\n",
       "      <td>(1, 1, 1, 1)</td>\n",
       "    </tr>\n",
       "    <tr>\n",
       "      <th>3</th>\n",
       "      <td>[960, 169, 178, 45, 488, 171, 56, 100, 192, 22...</td>\n",
       "      <td>[960, 169, 178, 45, 488, 171, 56, 100, 192, 22...</td>\n",
       "      <td>[56, 943, 488, 70]</td>\n",
       "      <td>(1, 0, 1, 0)</td>\n",
       "    </tr>\n",
       "    <tr>\n",
       "      <th>4</th>\n",
       "      <td>[172, 1163, 451, 161, 193, 301, 218, 715, 137,...</td>\n",
       "      <td>[172, 1163, 451, 161, 193, 301, 218, 715, 137,...</td>\n",
       "      <td>[542, 137, 86, 909]</td>\n",
       "      <td>(0, 1, 1, 1)</td>\n",
       "    </tr>\n",
       "    <tr>\n",
       "      <th>...</th>\n",
       "      <td>...</td>\n",
       "      <td>...</td>\n",
       "      <td>...</td>\n",
       "      <td>...</td>\n",
       "    </tr>\n",
       "    <tr>\n",
       "      <th>674</th>\n",
       "      <td>[455, 298, 124, 117, 257, 1007, 1, 993, 475, 2...</td>\n",
       "      <td>[455, 298, 124, 117, 257, 1007, 1, 993, 475, 2...</td>\n",
       "      <td>[1007, 1, 455, 147]</td>\n",
       "      <td>(1, 1, 1, 1)</td>\n",
       "    </tr>\n",
       "    <tr>\n",
       "      <th>675</th>\n",
       "      <td>[302, 255, 1, 246, 886, 307, 262, 268, 269, 33...</td>\n",
       "      <td>[302, 255, 1, 246, 886, 307, 262, 268, 269, 33...</td>\n",
       "      <td>[237, 255, 1, 150]</td>\n",
       "      <td>(0, 1, 1, 0)</td>\n",
       "    </tr>\n",
       "    <tr>\n",
       "      <th>676</th>\n",
       "      <td>[181, 258, 746, 721, 127, 173, 33, 174, 117, 1...</td>\n",
       "      <td>[181, 258, 746, 721, 127, 173, 33, 174, 117, 1...</td>\n",
       "      <td>[232, 421, 230, 655]</td>\n",
       "      <td>(0, 1, 0, 1)</td>\n",
       "    </tr>\n",
       "    <tr>\n",
       "      <th>677</th>\n",
       "      <td>[187, 50, 318, 520, 515, 705, 736, 91, 959, 31...</td>\n",
       "      <td>[187, 50, 318, 520, 515, 705, 736, 91, 959, 31...</td>\n",
       "      <td>[1139, 384, 636, 1140]</td>\n",
       "      <td>(0, 0, 1, 0)</td>\n",
       "    </tr>\n",
       "    <tr>\n",
       "      <th>678</th>\n",
       "      <td>[13, 370, 866, 276, 919, 289, 121, 280, 475, 7...</td>\n",
       "      <td>[13, 370, 866, 276, 919, 289, 121, 280, 475, 7...</td>\n",
       "      <td>[240, 280, 1114, 920]</td>\n",
       "      <td>(0, 1, 0, 0)</td>\n",
       "    </tr>\n",
       "  </tbody>\n",
       "</table>\n",
       "<p>679 rows × 4 columns</p>\n",
       "</div>"
      ],
      "text/plain": [
       "                                                 state  \\\n",
       "0    [82, 845, 923, 477, 471, 699, 134, 502, 613, 4...   \n",
       "1    [286, 190, 344, 245, 736, 558, 879, 535, 898, ...   \n",
       "2    [333, 272, 879, 302, 689, 751, 328, 313, 327, ...   \n",
       "3    [960, 169, 178, 45, 488, 171, 56, 100, 192, 22...   \n",
       "4    [172, 1163, 451, 161, 193, 301, 218, 715, 137,...   \n",
       "..                                                 ...   \n",
       "674  [455, 298, 124, 117, 257, 1007, 1, 993, 475, 2...   \n",
       "675  [302, 255, 1, 246, 886, 307, 262, 268, 269, 33...   \n",
       "676  [181, 258, 746, 721, 127, 173, 33, 174, 117, 1...   \n",
       "677  [187, 50, 318, 520, 515, 705, 736, 91, 959, 31...   \n",
       "678  [13, 370, 866, 276, 919, 289, 121, 280, 475, 7...   \n",
       "\n",
       "                                               n_state  \\\n",
       "0    [82, 845, 923, 477, 471, 699, 134, 502, 613, 4...   \n",
       "1    [286, 190, 344, 245, 736, 558, 879, 535, 898, ...   \n",
       "2    [333, 272, 879, 302, 689, 751, 328, 313, 327, ...   \n",
       "3    [960, 169, 178, 45, 488, 171, 56, 100, 192, 22...   \n",
       "4    [172, 1163, 451, 161, 193, 301, 218, 715, 137,...   \n",
       "..                                                 ...   \n",
       "674  [455, 298, 124, 117, 257, 1007, 1, 993, 475, 2...   \n",
       "675  [302, 255, 1, 246, 886, 307, 262, 268, 269, 33...   \n",
       "676  [181, 258, 746, 721, 127, 173, 33, 174, 117, 1...   \n",
       "677  [187, 50, 318, 520, 515, 705, 736, 91, 959, 31...   \n",
       "678  [13, 370, 866, 276, 919, 289, 121, 280, 475, 7...   \n",
       "\n",
       "                     action        reward  \n",
       "0     [700, 395, 1114, 728]  (0, 0, 0, 0)  \n",
       "1    [1089, 272, 221, 1080]  (0, 1, 1, 1)  \n",
       "2      [271, 289, 751, 689]  (1, 1, 1, 1)  \n",
       "3        [56, 943, 488, 70]  (1, 0, 1, 0)  \n",
       "4       [542, 137, 86, 909]  (0, 1, 1, 1)  \n",
       "..                      ...           ...  \n",
       "674     [1007, 1, 455, 147]  (1, 1, 1, 1)  \n",
       "675      [237, 255, 1, 150]  (0, 1, 1, 0)  \n",
       "676    [232, 421, 230, 655]  (0, 1, 0, 1)  \n",
       "677  [1139, 384, 636, 1140]  (0, 0, 1, 0)  \n",
       "678   [240, 280, 1114, 920]  (0, 1, 0, 0)  \n",
       "\n",
       "[679 rows x 4 columns]"
      ]
     },
     "execution_count": 13,
     "metadata": {},
     "output_type": "execute_result"
    }
   ],
   "source": [
    "data"
   ]
  },
  {
   "cell_type": "code",
   "execution_count": 12,
   "metadata": {},
   "outputs": [
    {
     "data": {
      "text/plain": [
       "array([  82,  845,  923,  477,  471,  699,  134,  502,  613,  414,  965,\n",
       "       1147])"
      ]
     },
     "execution_count": 12,
     "metadata": {},
     "output_type": "execute_result"
    }
   ],
   "source": [
    "data['state'][0]"
   ]
  },
  {
   "cell_type": "code",
   "execution_count": null,
   "metadata": {},
   "outputs": [],
   "source": []
  }
 ],
 "metadata": {
  "kernelspec": {
   "display_name": "tf",
   "language": "python",
   "name": "tf"
  },
  "language_info": {
   "codemirror_mode": {
    "name": "ipython",
    "version": 3
   },
   "file_extension": ".py",
   "mimetype": "text/x-python",
   "name": "python",
   "nbconvert_exporter": "python",
   "pygments_lexer": "ipython3",
   "version": "3.6.8"
  }
 },
 "nbformat": 4,
 "nbformat_minor": 4
}
